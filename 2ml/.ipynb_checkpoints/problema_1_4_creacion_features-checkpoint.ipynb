{
 "cells": [
  {
   "cell_type": "code",
   "execution_count": 8,
   "metadata": {},
   "outputs": [],
   "source": [
    "import numpy as np\n",
    "import pandas as pd\n",
    "import matplotlib.pyplot as plt\n",
    "import seaborn as sns\n",
    "from sklearn.model_selection import train_test_split\n",
    "\n",
    "%matplotlib inline\n",
    "x=pd.read_csv('datasets/x.csv')\n",
    "\n",
    "#Las regresiones no requieren escalamiento\n",
    "# las clasificaciones sin requierne escalamiento"
   ]
  },
  {
   "cell_type": "code",
   "execution_count": 9,
   "metadata": {},
   "outputs": [],
   "source": [
    "y=x['worldwide_gross']\n",
    "x.drop('worldwide_gross', axis=1)\n",
    "x_train,x_test,y_train,y_test=train_test_split(x,y)\n"
   ]
  },
  {
   "cell_type": "code",
   "execution_count": 13,
   "metadata": {},
   "outputs": [
    {
     "data": {
      "text/plain": [
       "array([3.33105062e+07, 9.60766805e+07, 2.00213548e+03, 2.12899872e+00,\n",
       "       1.08333809e+02, 1.05904747e+04, 3.64557883e+07, 6.46117609e+00,\n",
       "       4.85515089e+07])"
      ]
     },
     "execution_count": 13,
     "metadata": {},
     "output_type": "execute_result"
    }
   ],
   "source": [
    "from sklearn.preprocessing import StandardScaler\n",
    "scaler=StandardScaler()\n",
    "\n",
    "scaler.fit(x_train)\n",
    "scaler.mean_"
   ]
  },
  {
   "cell_type": "code",
   "execution_count": 14,
   "metadata": {},
   "outputs": [
    {
     "data": {
      "text/plain": [
       "array([[-0.44692787, -0.351725  ,  0.07207865, ..., -0.35138017,\n",
       "        -1.26571281, -0.22110259],\n",
       "       [-0.32488649, -0.29276612,  0.48894951, ..., -0.24831492,\n",
       "        -0.33584575, -0.14418718],\n",
       "       [ 2.23798237, -0.19636279, -0.26141803, ...,  0.83387027,\n",
       "         0.12908778, -0.24616012],\n",
       "       ...,\n",
       "       [ 3.58043749,  3.78391218,  0.98919454, ...,  2.46573681,\n",
       "         0.50103461,  2.99389837],\n",
       "       [-0.7691171 , -0.54122928,  0.07207865, ..., -0.59530128,\n",
       "         0.96596814, -0.74587058],\n",
       "       [ 0.163279  , -0.3592883 ,  1.07256872, ...,  0.06088085,\n",
       "        -0.42883246, -0.66408654]])"
      ]
     },
     "execution_count": 14,
     "metadata": {},
     "output_type": "execute_result"
    }
   ],
   "source": [
    "scaler.transform(x_train)"
   ]
  },
  {
   "cell_type": "code",
   "execution_count": 15,
   "metadata": {},
   "outputs": [],
   "source": [
    "x_train_scaled, x_test_scaled=(scaler.transform(x_train), scaler.transform(x_test))"
   ]
  },
  {
   "cell_type": "code",
   "execution_count": 17,
   "metadata": {},
   "outputs": [
    {
     "data": {
      "text/plain": [
       "Lasso(alpha=1.0, copy_X=True, fit_intercept=True, max_iter=1000,\n",
       "      normalize=False, positive=False, precompute=False, random_state=None,\n",
       "      selection='cyclic', tol=0.0001, warm_start=False)"
      ]
     },
     "execution_count": 17,
     "metadata": {},
     "output_type": "execute_result"
    }
   ],
   "source": [
    "from sklearn.linear_model import Lasso\n",
    "\n",
    "model= Lasso()\n",
    "model_scaled=Lasso()\n",
    "\n",
    "model.fit(x_train,y_train)\n",
    "model_scaled.fit(x_train_scaled, y_train)"
   ]
  },
  {
   "cell_type": "code",
   "execution_count": 18,
   "metadata": {},
   "outputs": [
    {
     "name": "stdout",
     "output_type": "stream",
     "text": [
      "0.9999999999999999\n",
      "0.9999994995936038\n"
     ]
    }
   ],
   "source": [
    "print(model.score(x_test, y_test))\n",
    "print(model_scaled.score(x_test_scaled, y_test))"
   ]
  }
 ],
 "metadata": {
  "kernelspec": {
   "display_name": "Python 3",
   "language": "python",
   "name": "python3"
  },
  "language_info": {
   "codemirror_mode": {
    "name": "ipython",
    "version": 3
   },
   "file_extension": ".py",
   "mimetype": "text/x-python",
   "name": "python",
   "nbconvert_exporter": "python",
   "pygments_lexer": "ipython3",
   "version": "3.7.6"
  }
 },
 "nbformat": 4,
 "nbformat_minor": 4
}

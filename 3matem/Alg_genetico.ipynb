{
 "cells": [
  {
   "cell_type": "code",
   "execution_count": 30,
   "metadata": {},
   "outputs": [
    {
     "name": "stdout",
     "output_type": "stream",
     "text": [
      "\n",
      "\n",
      " Modelo: [1, 1, 1, 1, 1, 1, 1, 1, 1, 1]\n",
      "\n",
      "Poblacion Inicial:\n",
      "[[9, 7, 2, 6, 2, 8, 4, 8, 2, 2], [3, 6, 2, 1, 6, 4, 4, 8, 6, 9], [6, 1, 8, 7, 3, 5, 9, 5, 8, 5], [2, 7, 8, 1, 3, 3, 9, 8, 4, 1], [2, 1, 6, 2, 1, 7, 5, 9, 1, 4], [8, 3, 2, 8, 6, 8, 1, 9, 8, 4], [6, 9, 9, 2, 5, 1, 9, 6, 8, 3], [1, 7, 7, 1, 1, 3, 2, 2, 4, 9], [7, 7, 9, 6, 9, 1, 6, 4, 9, 6], [6, 3, 5, 6, 1, 8, 4, 8, 5, 4]]\n",
      "Poblacion FINAL:\n",
      "[[1, 1, 1, 1, 1, 1, 1, 1, 1, 1], [1, 1, 1, 1, 1, 1, 1, 1, 1, 1], [1, 1, 1, 1, 1, 1, 1, 1, 1, 1], [1, 1, 1, 1, 1, 1, 1, 1, 1, 1], [1, 1, 1, 1, 1, 1, 1, 1, 1, 1], [1, 1, 1, 1, 1, 1, 1, 1, 1, 1], [1, 1, 1, 1, 1, 1, 9, 1, 1, 1], [1, 1, 1, 1, 1, 1, 1, 1, 1, 1], [1, 1, 1, 1, 1, 1, 1, 1, 1, 1], [1, 1, 1, 1, 1, 1, 1, 1, 1, 1]]\n"
     ]
    }
   ],
   "source": [
    "import random \n",
    "modelo = [1,1,1,1,1,1,1,1,1,1]\n",
    "largo=10\n",
    "num=10\n",
    "pressure=3\n",
    "mutation_chance=0.2\n",
    "print(\"\\n\\n Modelo: %s\\n\"%(modelo))\n",
    "\n",
    "def individual(min,max):\n",
    "    return [random.randint(min,max) for i in range(largo)]\n",
    "\n",
    "def crearPoblacion():\n",
    "    return[individual(1,9) for i in range(num)]\n",
    "\n",
    "def calcularFitness(individual):\n",
    "    fitness=0\n",
    "    for i in range(len(individual)):\n",
    "        if individual[i]==modelo[i]:\n",
    "            fitness+=1\n",
    "    return fitness\n",
    "\n",
    "def selection_reproduction(population):\n",
    "    puntuados=[(calcularFitness(i), i) for i in population ]\n",
    "    puntuados= [i[1] for i in sorted(puntuados)]\n",
    "    population=puntuados\n",
    "    \n",
    "    selected = puntuados[len(puntuados)-pressure:]\n",
    "    for i in range(len(population)-pressure):\n",
    "        punto=random.randint(1,largo-1)\n",
    "        \n",
    "        #Seleccion de los dos padres \n",
    "        padre= random.sample(selected,2)\n",
    "        population[i][:punto] = padre[0][:punto]\n",
    "        population[i][punto:] = padre[1][punto:]\n",
    "        \n",
    "        population[i][:punto] = padre[0][:punto]\n",
    "        population[i][punto:] = padre[1][punto:]        \n",
    "        \n",
    "    return population\n",
    "\n",
    "def mutacion(population):\n",
    "    for i in range(len(population)-pressure):\n",
    "        if random.random()<=mutation_chance:\n",
    "            punto=random.randint(0,largo-1)\n",
    "            nuevo_valor=random.randint(1,9)\n",
    "            while nuevo_valor== population[i][punto]:\n",
    "                nuevo_valor=random.randint(1,9)\n",
    "            population[i][punto]=nuevo_valor\n",
    "    return population\n",
    "\n",
    "\n",
    "population= crearPoblacion()\n",
    "print(\"Poblacion Inicial:\\n%s\"%(population))\n",
    "\n",
    "for i in range(100):\n",
    "    population=selection_reproduction(population)\n",
    "    population=mutation(population)\n",
    "\n",
    "print(\"Poblacion FINAL:\\n%s\"%(population))\n"
   ]
  },
  {
   "cell_type": "code",
   "execution_count": 18,
   "metadata": {
    "collapsed": true
   },
   "outputs": [
    {
     "name": "stdout",
     "output_type": "stream",
     "text": [
      "\n",
      "\\Modelo: [1, 1, 1, 1, 1, 1, 1, 1, 1, 1]\n",
      "\n",
      "Población Inicial:\n",
      "[[9, 3, 3, 4, 4, 6, 9, 5, 1, 6], [9, 6, 5, 8, 4, 5, 9, 3, 1, 1], [2, 6, 5, 9, 9, 4, 6, 7, 5, 4], [8, 2, 7, 4, 9, 8, 2, 3, 1, 9], [8, 3, 9, 2, 8, 6, 8, 1, 9, 5], [4, 1, 6, 8, 2, 8, 6, 6, 3, 4], [1, 1, 4, 2, 3, 5, 3, 7, 8, 9], [5, 9, 2, 4, 6, 9, 1, 4, 3, 5], [3, 6, 4, 2, 1, 3, 7, 2, 7, 2], [6, 1, 6, 4, 6, 9, 2, 2, 9, 7]]\n",
      "\n",
      "Población Final:\n",
      "[[1, 1, 9, 1, 1, 1, 1, 1, 1, 1], [1, 1, 1, 1, 1, 1, 1, 1, 1, 1], [1, 1, 1, 1, 1, 1, 6, 1, 1, 1], [1, 1, 1, 1, 1, 1, 1, 1, 1, 1], [1, 1, 1, 1, 1, 1, 1, 1, 1, 1], [1, 1, 1, 1, 1, 1, 1, 1, 1, 1], [1, 1, 1, 1, 1, 1, 1, 1, 1, 1], [1, 1, 1, 1, 1, 1, 1, 1, 1, 1], [1, 1, 1, 1, 1, 1, 1, 1, 1, 1], [1, 1, 1, 1, 1, 1, 1, 1, 1, 1]]\n",
      "\n",
      "\n",
      "\n"
     ]
    }
   ],
   "source": []
  }
 ],
 "metadata": {
  "kernelspec": {
   "display_name": "Python 3",
   "language": "python",
   "name": "python3"
  },
  "language_info": {
   "codemirror_mode": {
    "name": "ipython",
    "version": 3
   },
   "file_extension": ".py",
   "mimetype": "text/x-python",
   "name": "python",
   "nbconvert_exporter": "python",
   "pygments_lexer": "ipython3",
   "version": "3.7.6"
  }
 },
 "nbformat": 4,
 "nbformat_minor": 4
}

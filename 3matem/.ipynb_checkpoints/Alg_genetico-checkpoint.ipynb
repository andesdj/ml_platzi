{
 "cells": [
  {
   "cell_type": "code",
   "execution_count": 11,
   "metadata": {},
   "outputs": [
    {
     "name": "stdout",
     "output_type": "stream",
     "text": [
      "\n",
      "\n",
      " Modelo: [1, 1, 1, 1, 1, 1, 1, 1, 1, 1]\n",
      "\n",
      "Poblacion Inicial:\n",
      "[[1, 4, 2, 1, 1, 4, 1, 6, 4, 6], [1, 4, 8, 4, 1, 9, 2, 1, 8, 7], [6, 3, 6, 7, 5, 5, 3, 1, 9, 9], [5, 6, 8, 4, 2, 7, 2, 8, 8, 9], [2, 3, 8, 2, 1, 2, 3, 6, 1, 2], [8, 9, 6, 2, 3, 4, 1, 9, 5, 4], [7, 9, 8, 8, 4, 4, 2, 5, 3, 3], [6, 2, 6, 6, 8, 5, 1, 2, 8, 7], [7, 4, 4, 8, 4, 9, 1, 7, 1, 9], [4, 2, 5, 2, 3, 3, 7, 9, 8, 4]]\n"
     ]
    },
    {
     "ename": "TypeError",
     "evalue": "'int' object is not subscriptable",
     "output_type": "error",
     "traceback": [
      "\u001b[1;31m---------------------------------------------------------------------------\u001b[0m",
      "\u001b[1;31mTypeError\u001b[0m                                 Traceback (most recent call last)",
      "\u001b[1;32m<ipython-input-11-4b7ef52e35da>\u001b[0m in \u001b[0;36m<module>\u001b[1;34m\u001b[0m\n\u001b[0;32m     51\u001b[0m \u001b[1;33m\u001b[0m\u001b[0m\n\u001b[0;32m     52\u001b[0m \u001b[1;32mfor\u001b[0m \u001b[0mi\u001b[0m \u001b[1;32min\u001b[0m \u001b[0mrange\u001b[0m\u001b[1;33m(\u001b[0m\u001b[1;36m100\u001b[0m\u001b[1;33m)\u001b[0m\u001b[1;33m:\u001b[0m\u001b[1;33m\u001b[0m\u001b[1;33m\u001b[0m\u001b[0m\n\u001b[1;32m---> 53\u001b[1;33m     \u001b[0mpopulation\u001b[0m\u001b[1;33m=\u001b[0m\u001b[0mselection_reproduction\u001b[0m\u001b[1;33m(\u001b[0m\u001b[0mpopulation\u001b[0m\u001b[1;33m)\u001b[0m\u001b[1;33m\u001b[0m\u001b[1;33m\u001b[0m\u001b[0m\n\u001b[0m\u001b[0;32m     54\u001b[0m     \u001b[0mpopulation\u001b[0m\u001b[1;33m=\u001b[0m\u001b[0mmutation\u001b[0m\u001b[1;33m(\u001b[0m\u001b[0mpopulation\u001b[0m\u001b[1;33m)\u001b[0m\u001b[1;33m\u001b[0m\u001b[1;33m\u001b[0m\u001b[0m\n\u001b[0;32m     55\u001b[0m \u001b[1;33m\u001b[0m\u001b[0m\n",
      "\u001b[1;32m<ipython-input-11-4b7ef52e35da>\u001b[0m in \u001b[0;36mselection_reproduction\u001b[1;34m(population)\u001b[0m\n\u001b[0;32m     31\u001b[0m         \u001b[1;31m#Seleccion de los dos padres\u001b[0m\u001b[1;33m\u001b[0m\u001b[1;33m\u001b[0m\u001b[1;33m\u001b[0m\u001b[0m\n\u001b[0;32m     32\u001b[0m         \u001b[0mpadre\u001b[0m\u001b[1;33m=\u001b[0m \u001b[0mrandom\u001b[0m\u001b[1;33m.\u001b[0m\u001b[0msample\u001b[0m\u001b[1;33m(\u001b[0m\u001b[0mselected\u001b[0m\u001b[1;33m,\u001b[0m\u001b[1;36m2\u001b[0m\u001b[1;33m)\u001b[0m\u001b[1;33m\u001b[0m\u001b[1;33m\u001b[0m\u001b[0m\n\u001b[1;32m---> 33\u001b[1;33m         \u001b[0mpopulation\u001b[0m\u001b[1;33m[\u001b[0m\u001b[0mi\u001b[0m\u001b[1;33m]\u001b[0m\u001b[1;33m[\u001b[0m\u001b[1;33m:\u001b[0m\u001b[0mpunto\u001b[0m\u001b[1;33m]\u001b[0m \u001b[1;33m=\u001b[0m \u001b[0mpadre\u001b[0m\u001b[1;33m[\u001b[0m\u001b[1;36m0\u001b[0m\u001b[1;33m]\u001b[0m\u001b[1;33m[\u001b[0m\u001b[1;33m:\u001b[0m\u001b[0mpunto\u001b[0m\u001b[1;33m]\u001b[0m\u001b[1;33m\u001b[0m\u001b[1;33m\u001b[0m\u001b[0m\n\u001b[0m\u001b[0;32m     34\u001b[0m         \u001b[0mpopulation\u001b[0m\u001b[1;33m[\u001b[0m\u001b[0mi\u001b[0m\u001b[1;33m]\u001b[0m\u001b[1;33m[\u001b[0m\u001b[0mpunto\u001b[0m\u001b[1;33m:\u001b[0m\u001b[1;33m]\u001b[0m \u001b[1;33m=\u001b[0m \u001b[0mpadre\u001b[0m\u001b[1;33m[\u001b[0m\u001b[1;36m0\u001b[0m\u001b[1;33m]\u001b[0m\u001b[1;33m[\u001b[0m\u001b[0mpunto\u001b[0m\u001b[1;33m:\u001b[0m\u001b[1;33m]\u001b[0m\u001b[1;33m\u001b[0m\u001b[1;33m\u001b[0m\u001b[0m\n\u001b[0;32m     35\u001b[0m \u001b[1;33m\u001b[0m\u001b[0m\n",
      "\u001b[1;31mTypeError\u001b[0m: 'int' object is not subscriptable"
     ]
    }
   ],
   "source": [
    "import random \n",
    "modelo = [1,1,1,1,1,1,1,1,1,1]\n",
    "largo=10\n",
    "num=10\n",
    "pressure=3\n",
    "mutation_chance=0.2\n",
    "print(\"\\n\\n Modelo: %s\\n\"%(modelo))\n",
    "\n",
    "def individual(min,max):\n",
    "    return [random.randint(min,max) for i in range(largo)]\n",
    "\n",
    "def crearPoblacion():\n",
    "    return[individual(1,9) for i in range(num)]\n",
    "\n",
    "def calcularFitness(individual):\n",
    "    fitness=0\n",
    "    for i in range(len(individual)):\n",
    "        if individual[i]==modelo[i]:\n",
    "            fitness+=1\n",
    "    return fitness\n",
    "\n",
    "def selection_reproduction(population):\n",
    "    puntuados=[(calcularFitness(i), i) for i in population ]\n",
    "    puntuados= [i[1] for i in sorted(puntuados)]\n",
    "    population=puntuados\n",
    "    \n",
    "    selected = puntuados[len(puntuados)-pressure]\n",
    "    for i in range(len(population)-pressure):\n",
    "        punto=random.randint(1,largo-1)\n",
    "        \n",
    "        #Seleccion de los dos padres \n",
    "        padre= random.sample(selected,2)\n",
    "        population[i][:punto] = padre[0][:punto]\n",
    "        population[i][punto:] = padre[1][punto:]\n",
    "        \n",
    "    return population\n",
    "\n",
    "def mutacion(population):\n",
    "    for i in range(len(population)-pressure):\n",
    "        if random.random()<=mutation_chance:\n",
    "            punto=random.randint(0,largo-1)\n",
    "            nuevo_valor=random.randint(1,9)\n",
    "            while nuevo_valor== population[i][punto]:\n",
    "                nuevo_valor=random.randint(1,9)\n",
    "            population[i][punto]=nuevo_valor\n",
    "    return population\n",
    "\n",
    "\n",
    "population= crearPoblacion()\n",
    "print(\"Poblacion Inicial:\\n%s\"%(population))\n",
    "\n",
    "for i in range(100):\n",
    "    population=selection_reproduction(population)\n",
    "    population=mutation(population)\n",
    "\n",
    "print(\"Poblacion FNIAL:\\n%s\"%(population))\n"
   ]
  }
 ],
 "metadata": {
  "kernelspec": {
   "display_name": "Python 3",
   "language": "python",
   "name": "python3"
  },
  "language_info": {
   "codemirror_mode": {
    "name": "ipython",
    "version": 3
   },
   "file_extension": ".py",
   "mimetype": "text/x-python",
   "name": "python",
   "nbconvert_exporter": "python",
   "pygments_lexer": "ipython3",
   "version": "3.7.6"
  }
 },
 "nbformat": 4,
 "nbformat_minor": 4
}

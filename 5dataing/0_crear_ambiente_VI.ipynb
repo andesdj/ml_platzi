{
 "cells": [
  {
   "cell_type": "markdown",
   "metadata": {},
   "source": [
    "# COMANDOS en Consola  ANACONDA\n",
    "## \n",
    "###  Crear un ENV en ANACONDA\n",
    "* conda create --name platzi beautifulsoup4  requests numpy pandas matplotlib yaml\n",
    "###  Activar el ambiente en conda\n",
    "* conda activate platzi (nombre env)\n",
    "### Desactivar ambiente\n",
    "* conda deactivate \n",
    "###  Iniciar JUPYTER Consola\n",
    "* jupyter notebook\n",
    "###  Ver los ambientes en Consola\n",
    "* conda env list\n",
    "\n",
    "### Borrar ambiente\n",
    "* conda remove platzo (nombre ENV)\n",
    "\n"
   ]
  }
 ],
 "metadata": {
  "kernelspec": {
   "display_name": "Python 3",
   "language": "python",
   "name": "python3"
  },
  "language_info": {
   "codemirror_mode": {
    "name": "ipython",
    "version": 3
   },
   "file_extension": ".py",
   "mimetype": "text/x-python",
   "name": "python",
   "nbconvert_exporter": "python",
   "pygments_lexer": "ipython3",
   "version": "3.7.6"
  }
 },
 "nbformat": 4,
 "nbformat_minor": 4
}

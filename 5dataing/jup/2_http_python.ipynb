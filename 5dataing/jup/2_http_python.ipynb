{
 "cells": [
  {
   "cell_type": "code",
   "execution_count": 10,
   "metadata": {},
   "outputs": [],
   "source": [
    "import requests\n",
    "\n",
    "response = requests.get('https://platzi.com/')\n",
    "response.encoding = 'utf-8'\n"
   ]
  },
  {
   "cell_type": "code",
   "execution_count": 12,
   "metadata": {},
   "outputs": [],
   "source": [
    "# Detectar que la variable tiene algo de documentación\n",
    "response?"
   ]
  },
  {
   "cell_type": "code",
   "execution_count": 6,
   "metadata": {},
   "outputs": [],
   "source": [
    "# Ver la dopcumentacion o la implementacion del metodo\n",
    "response??"
   ]
  },
  {
   "cell_type": "code",
   "execution_count": 7,
   "metadata": {},
   "outputs": [
    {
     "name": "stdout",
     "output_type": "stream",
     "text": [
      "['__attrs__', '__bool__', '__class__', '__delattr__', '__dict__', '__dir__', '__doc__', '__enter__', '__eq__', '__exit__', '__format__', '__ge__', '__getattribute__', '__getstate__', '__gt__', '__hash__', '__init__', '__init_subclass__', '__iter__', '__le__', '__lt__', '__module__', '__ne__', '__new__', '__nonzero__', '__reduce__', '__reduce_ex__', '__repr__', '__setattr__', '__setstate__', '__sizeof__', '__str__', '__subclasshook__', '__weakref__', '_content', '_content_consumed', '_next', 'apparent_encoding', 'close', 'connection', 'content', 'cookies', 'elapsed', 'encoding', 'headers', 'history', 'is_permanent_redirect', 'is_redirect', 'iter_content', 'iter_lines', 'json', 'links', 'next', 'ok', 'raise_for_status', 'raw', 'reason', 'request', 'status_code', 'text', 'url']\n"
     ]
    }
   ],
   "source": [
    "# Imprimir todos los metodos del response\n",
    "print(dir(response))"
   ]
  },
  {
   "cell_type": "code",
   "execution_count": 60,
   "metadata": {},
   "outputs": [
    {
     "name": "stdout",
     "output_type": "stream",
     "text": [
      "200\n"
     ]
    }
   ],
   "source": [
    "print(response.status_code)"
   ]
  },
  {
   "cell_type": "code",
   "execution_count": 13,
   "metadata": {},
   "outputs": [
    {
     "name": "stdout",
     "output_type": "stream",
     "text": [
      "{'Date': 'Wed, 03 Jun 2020 03:04:49 GMT', 'Content-Type': 'text/html', 'Transfer-Encoding': 'chunked', 'Connection': 'keep-alive', 'Set-Cookie': '__cfduid=d74add777510991277dae92d5910534171591153488; expires=Fri, 03-Jul-20 03:04:48 GMT; path=/; domain=.platzi.com; HttpOnly; SameSite=Lax', 'Access-Control-Allow-Credentials': 'true', 'Access-Control-Allow-Headers': 'X-Requested-With,content-type,X-CSRFToken', 'Access-Control-Allow-Methods': 'GET, POST', 'Access-Control-Allow-Origin': '*', 'Strict-Transport-Security': 'max-age=86400; includeSubDomains', 'Vary': 'Accept-Encoding', 'X-Content-Type-Options': 'nosniff', 'X-DNS-Prefetch-Control': 'off', 'X-Download-Options': 'noopen', 'X-Frame-Options': 'SAMEORIGIN', 'X-Permitted-Cross-Domain-Policies': 'none', 'X-XSS-Protection': '1; mode=block', 'CF-Cache-Status': 'DYNAMIC', 'cf-request-id': '0319bc8bcc0000e784f4b2b200000001', 'Expect-CT': 'max-age=604800, report-uri=\"https://report-uri.cloudflare.com/cdn-cgi/beacon/expect-ct\"', 'Server': 'cloudflare', 'CF-RAY': '59d630594980e784-MDE', 'Content-Encoding': 'gzip'}\n"
     ]
    }
   ],
   "source": [
    "print(response.headers)"
   ]
  },
  {
   "cell_type": "code",
   "execution_count": 14,
   "metadata": {},
   "outputs": [
    {
     "name": "stdout",
     "output_type": "stream",
     "text": [
      "\n",
      "    <!doctype html>\n",
      "      <html lang=es-CO>\n",
      "        <head>\n",
      "          <meta charset=\"UTF-8\">\n",
      "          \n",
      "          <meta name=\"viewport\" content=\"width=device-width, initial-scale=1\" />\n",
      "          <title>🚀Platzi: ‎Cursos Online Profesionales de Tecnología</title>\n",
      "          <link rel=\"stylesheet\" href=\"https://cdn.jsdelivr.net/npm/@fortawesome/fontawesome-svg-core@1.2.28/styles.css\">\n",
      "          <link rel=\"stylesheet\" href=\"https://static.platzi.com/mf-landings/assets/home.561b1fbebddb91226165.css\" type=\"text/css\" />\n",
      "          <link rel=\"shortcut icon\" href=\"//static.platzi.com/media/favicons/platzi_favicon.png\" />\n",
      "          <link rel=\"icon\" sizes=\"192x192\" href=\"//static.platzi.com/media/favicons/platzi_favicon.png\">\n",
      "          <link rel=\"alternate\" type=\"application/rss+xml\" title=\"RSS 2.0\" href=\"\" />\n",
      "          \n",
      "    <meta name=\"description\" content=\"Aprende desde cero a crear el futuro web con nuestros Cursos Online Profesionales de Tecnología. 🚀¡Cursos de Desarrollo, Diseño, Marketing y Negocios!\">\n",
      "    <meta name = \"theme-color\" content = \"#15210B\" />\n",
      "\n",
      "    <meta property=\"fb:app_id\" content=\"263680607075199\" />\n",
      "    <meta property=\"fb:admins\" content=\"1030603473\" />\n",
      "    <meta property=\"og:description\" content=\"Aprende desde cero a crear el futuro web con nuestros Cursos Online Profesionales de Tecnología. 🚀¡Cursos de Desarrollo, Diseño, Marketing y Negocios!\"/>\n",
      "    <meta property=\"og:title\" content=\"🚀Platzi: ‎Cursos Online Profesionales de Tecnología\" />\n",
      "    <meta property=\"og:type\" content=\"website\" />\n",
      "    <meta property=\"og:url\" content=\"https://platzi.com\" />\n",
      "    <meta property=\"og:image\" content=\"https://static.platzi.com/media/meta_tags/og/OG-platzi-Dic-2019.png\" />\n",
      "    <meta property=\"og:site_name\" content=\"https://platzi.com\" />\n",
      "\n",
      "    <meta property=\"twitter:account_id\" content=\"4503599630205252\" />\n",
      "    <meta name=\"twitter:card\" content=\"summary_large_image\" />\n",
      "    <meta name=\"twitter:site\" content=\"@Platzi\" />\n",
      "    <meta name=\"twitter:title\" content=\"🚀Platzi: ‎Cursos Online Profesionales de Tecnología\" />\n",
      "    <meta name=\"twitter:description\" content=\"Aprende desde cero a crear el futuro web con nuestros Cursos Online Profesionales de Tecnología. 🚀¡Cursos de Desarrollo, Diseño, Marketing y Negocios!\" />\n",
      "    <meta name=\"twitter:creator\" content=\"@Platzi\" />\n",
      "    <meta name=\"twitter:image:src\" content=\"https://static.platzi.com/media/meta_tags/og/OG-platzi-Dic-2019.png\" />\n",
      "    <meta name=\"twitter:domain\" content=\"https://platzi.com\" />\n",
      "\n",
      "    <meta name=\"p:domain_verify\" content=\"7b60446823db932528d0528d4cb50e66\" />\n",
      "    <link rel=\"stylesheet\" href=\"https://cdnjs.cloudflare.com/ajax/libs/highlight.js/9.2.0/styles/monokai.min.css\">\n",
      "  \n",
      "          \n",
      "    <script rel=\"preconnect\" async>\n",
      "      (function(i,s,o,g,r,a,m){i['GoogleAnalyticsObject']=r;i[r]=i[r]||function(){\n",
      "          (i[r].q=i[r].q||[]).push(arguments)},i[r].l=1*new Date();a=s.createElement(o),\n",
      "          m=s.getElementsByTagName(o)[0];a.async=1;a.src=g;m.parentNode.insertBefore(a,m)\n",
      "      })(window,document,'script','//www.google-analytics.com/analytics.js','ga');\n",
      "\n",
      "      window.ga=window.ga||function(){(ga.q=ga.q||[]).push(arguments)};ga.l=+new Date;\n",
      "      null\n",
      "\n",
      "      //Platzi LATAM\n",
      "      \n",
      "        ga('create', 'UA-76863-18', 'auto', 'platziPublicES');\n",
      "        ga('create', 'UA-76863-27', 'auto', 'platziFull');\n",
      "\n",
      "        // Require Plugins for platziPublicES\n",
      "        ga('platziPublicES.require', 'ecommerce');\n",
      "        ga('platziPublicES.require', 'outboundLinkTracker');\n",
      "        ga('platziPublicES.require', 'socialWidgetTracker');\n",
      "\n",
      "        // Require Plugins for platziFull\n",
      "        ga('platziFull.require', 'ecommerce');\n",
      "        ga('platziFull.require', 'outboundLinkTracker');\n",
      "        ga('platziFull.require', 'socialWidgetTracker');\n",
      "\n",
      "        null\n",
      "\n",
      "        //Send Pageview\n",
      "        ga('platziPublicES.send', 'pageview');\n",
      "        ga('platziFull.send', 'pageview');\n",
      "\n",
      "        null\n",
      "\n",
      "      \n",
      "\n",
      "      //Platzi USA\n",
      "      null\n",
      "\n",
      "      //Platzi Brazil\n",
      "      null\n",
      "\n",
      "    </script>\n",
      "\n",
      "    <script rel=\"preconnect\" async src=\"https://www.googletagmanager.com/gtag/js?id=AW-759649979\"></script>\n",
      "\n",
      "    <script async>\n",
      "      window.dataLayer = window.dataLayer || [];\n",
      "      function gtag(){dataLayer.push(arguments);}\n",
      "      gtag('js', new Date());\n",
      "\n",
      "      gtag('config', 'AW-759649979');\n",
      "    </script>\n",
      "\n",
      "    <!-- GTM Second Stage -->\n",
      "    <script defer>\n",
      "      (function(w,d,s,l,i){w[l]=w[l]||[];w[l].push({'gtm.start':\n",
      "      new Date().getTime(),event:'gtm.js'});var f=d.getElementsByTagName(s)[0],\n",
      "      j=d.createElement(s),dl=l!='dataLayer'?'&l='+l:'';j.async=true;j.src=\n",
      "      'https://www.googletagmanager.com/gtm.js?id='+i+dl;f.parentNode.insertBefore(j,f);\n",
      "      })(window,document,'script','dataLayer','GTM-MPT6TFW');\n",
      "    </script>\n",
      "    <!-- End GTM Second Stage -->\n",
      "\n",
      "    <!-- Autotrack plugin for Google Analytics -->\n",
      "    <script rel=\"preconnect\" async src=\"https://cdnjs.cloudflare.com/ajax/libs/autotrack/2.4.1/autotrack.js\"></script>\n",
      "\n",
      "    <!-- Facebook Pixel Code -->\n",
      "    <script rel=\"preconnect\" async>\n",
      "      !function(f,b,e,v,n,t,s)\n",
      "      {if(f.fbq)return;n=f.fbq=function(){n.callMethod?\n",
      "        n.callMethod.apply(n,arguments):n.queue.push(arguments)};\n",
      "        if(!f._fbq)f._fbq=n;n.push=n;n.loaded=!0;n.version='2.0';\n",
      "        n.queue=[];t=b.createElement(e);t.async=!0;\n",
      "        t.src=v;s=b.getElementsByTagName(e)[0];\n",
      "        s.parentNode.insertBefore(t,s)}(window, document,'script',\n",
      "        'https://connect.facebook.net/en_US/fbevents.js');\n",
      "      fbq('init', '1545967215651797');\n",
      "      fbq('track', 'PageView');\n",
      "\n",
      "      null\n",
      "    </script>\n",
      "\n",
      "    <noscript>\n",
      "      <img\n",
      "        height=\"1\"\n",
      "        width=\"1\"\n",
      "        style=\"display:none\"\n",
      "        src=\"https://www.facebook.com/tr?id=1545967215651797&ev=PageView&noscript=1\"\n",
      "      />\n",
      "    </noscript>\n",
      "\n",
      "    <script rel=\"preconnect\" async type=\"text/javascript\">\n",
      "      _linkedin_data_partner_id = \"274754\";\n",
      "      </script><script type=\"text/javascript\" async>\n",
      "      (function(){var s = document.getElementsByTagName(\"script\")[0];\n",
      "      var b = document.createElement(\"script\");\n",
      "      b.type = \"text/javascript\";b.async = true;\n",
      "      b.src = \"https://snap.licdn.com/li.lms-analytics/insight.min.js\";\n",
      "      s.parentNode.insertBefore(b, s);})();\n",
      "    </script>\n",
      "\n",
      "    <noscript>\n",
      "      <img height=\"1\" width=\"1\" style=\"display:none;\" alt=\"\" src=\"https://dc.ads.linkedin.com/collect/?pid=274754&fmt=gif\" />\n",
      "    </noscript>\n",
      "\n",
      "    <!-- End Analytics and FB Pixel Code -->\n",
      "\n",
      "    <!-- Reddit Conversion Pixel -->\n",
      "    <script rel=\"preconnect\" async>\n",
      "      !function(w,d){if(!w.rdt){var p=w.rdt=function(){p.sendEvent?p.sendEvent.apply(p,arguments):p.callQueue.push(arguments)};p.callQueue=[];var t=d.createElement(\"script\");t.src=\"https://www.redditstatic.com/ads/pixel.js\",t.async=!0;var s=d.getElementsByTagName(\"script\")[0];s.parentNode.insertBefore(t,s)}}(window,document);rdt('init','t2_3b2gfq1n');rdt('track', 'PageVisit');\n",
      "    </script>\n",
      "    <!-- DO NOT MODIFY -->\n",
      "    <!-- End Reddit Conversion Pixel -->\n",
      "\n",
      "    <!-- Twitter universal website tag code -->\n",
      "    <script rel=\"preconnect\" async>\n",
      "      !function(e,t,n,s,u,a){e.twq||(s=e.twq=function(){s.exe?s.exe.apply(s,arguments):s.queue.push(arguments);\n",
      "      },s.version='1.1',s.queue=[],u=t.createElement(n),u.async=!0,u.src='//static.ads-twitter.com/uwt.js',\n",
      "          a=t.getElementsByTagName(n)[0],a.parentNode.insertBefore(u,a))}(window,document,'script');\n",
      "      // Insert Twitter Pixel ID and Standard Event data below\n",
      "      twq('init','nyfpx');\n",
      "      twq('track','PageView');\n",
      "    </script>\n",
      "    <!-- End Twitter universal website tag code -->\n",
      "\n",
      "    <!-- Structured data -->\n",
      "    <script type=\"application/ld+json\">\n",
      "      { \n",
      "        \"@context\": \"http://schema.org\",\n",
      "        \"@type\": \"BreadcrumbList\",\n",
      "        \"itemListElement\":\n",
      "          [{\n",
      "            \"@type\": \"ListItem\",\n",
      "            \"position\": 1,\n",
      "            \"item\":\n",
      "              {\n",
      "                \"@id\": \"https://platzi.com/\",\n",
      "                \"name\": \"🚀 Platzi: ‎Cursos Online Profesionales de Tecnología\"\n",
      "              }\n",
      "            }]\n",
      "      }\n",
      "    </script>\n",
      "    <!-- END Structured data -->\n",
      "  \n",
      "          <style>\n",
      "            .Modal-wrapper {\n",
      "            -webkit-transition: all 0.5s;\n",
      "            -moz-transition: all 0.5s;\n",
      "            -o-transition: all 0.5s;\n",
      "            -ms-transition: all 0.5s;\n",
      "            transition: all 0.5s;\n",
      "            z-index: 8;\n",
      "            display: -webkit-box;\n",
      "            display: -moz-box;\n",
      "            display: -webkit-flex;\n",
      "            display: -ms-flexbox;\n",
      "            display: box;\n",
      "            display: flex;\n",
      "            -webkit-box-pack: center;\n",
      "            -moz-box-pack: center;\n",
      "            -o-box-pack: center;\n",
      "            -ms-flex-pack: center;\n",
      "            -webkit-justify-content: center;\n",
      "            justify-content: center;\n",
      "            -webkit-box-align: center;\n",
      "            -moz-box-align: center;\n",
      "            -o-box-align: center;\n",
      "            -ms-flex-align: center;\n",
      "            -webkit-align-items: center;\n",
      "            align-items: center;\n",
      "            top: 0;\n",
      "            bottom: 0;\n",
      "            left: 0;\n",
      "            right: 0;\n",
      "            -webkit-transform: translateY(-100vh);\n",
      "            -moz-transform: translateY(-100vh);\n",
      "            -o-transform: translateY(-100vh);\n",
      "            -ms-transform: translateY(-100vh);\n",
      "            transform: translateY(-100vh);\n",
      "            opacity: 0;\n",
      "            -ms-filter: \"progid:DXImageTransform.Microsoft.Alpha(Opacity=0)\";\n",
      "            -webkit-filter: alpha(opacity=0);\n",
      "            -moz-filter: alpha(opacity=0);\n",
      "            -ms-filter: alpha(opacity=0);\n",
      "            -o-filter: alpha(opacity=0);\n",
      "            filter: alpha(opacity=0);\n",
      "            }\n",
      "            .Modal-wrapper.showModal {\n",
      "            -webkit-transform: translateY(0vh);\n",
      "            -moz-transform: translateY(0vh);\n",
      "            -o-transform: translateY(0vh);\n",
      "            -ms-transform: translateY(0vh);\n",
      "            transform: translateY(0vh);\n",
      "            opacity: 1;\n",
      "            -ms-filter: none;\n",
      "            -webkit-filter: none;\n",
      "            -moz-filter: none;\n",
      "            -ms-filter: none;\n",
      "            -o-filter: none;\n",
      "            filter: none;\n",
      "            }\n",
      "            .Modal-overlay {\n",
      "            background-color: rgba(0,0,0,0.7);\n",
      "            position: fixed;\n",
      "            width: 100%;\n",
      "            height: 100%;\n",
      "            top: 0;\n",
      "            left: 0;\n",
      "            right: 0;\n",
      "            bottom: 0;\n",
      "            z-index: 8;\n",
      "            cursor: pointer;\n",
      "            }\n",
      "          </style>\n",
      "        </head >\n",
      "        <body>\n",
      "          <div id=home><div class=\"Home\"><div class=\"BaseLayout\"><div><div class=\"Modal\"><div class=\"Modal-wrapper\"></div></div><div class=\"Header-v2 Header-v2-content\"><div class=\"Logo\"><div class=\"LogoHeader\"><a href=\"/\" class=\"LogoHeader-link\"><div class=\"LogoHeader-container\"><figure><img loading=\"lazy\" src=\"https://static.platzi.com/mf-landings/image/isotipoPlatzi-442ccc1186a9806e18c9889cc301ffe1.png\" alt=\"Platzi isotipo\" height=\"25\"/></figure><figure class=\"LogoHeader-name\"><img loading=\"lazy\" src=\"https://static.platzi.com/mf-landings/image/logotipo-platzi-768799552e5f26369e21a807b8a533f7.png\" alt=\"Platzi Logo\" height=\"25\"/></figure></div></a></div></div><div class=\"Nav-header\"><div class=\"Actionsv2\"><div><div class=\"Actionsv2-menu\" role=\"button\" tabindex=\"0\"><div class=\"isDesktop\"><span>Iniciar mi plan</span></div><div class=\"isMobile\"><span>Planes</span></div><i class=\"icon-arrow-down toggle-down\"></i></div></div></div><div class=\"Menu\"><div class=\"Menu-dropdown\" role=\"button\" tabindex=\"0\"><div class=\"Menu-title\"><span>Menú</span></div></div><div class=\"Menu-content\"><div><ul class=\"Menu-list\"><li class=\"Menu-list-item\"><a href=\"/cursos/\"><div>Cursos</div></a></li><li class=\"Menu-list-item\"><a href=\"/blog/\"><div>Blog</div></a></li><li class=\"Menu-list-item\"><a href=\"/foro/\"><div>Foro</div></a></li><li class=\"Menu-list-item\"><a href=\"/agenda/\"><div>Agenda</div></a></li><li class=\"Menu-list-item\"><a href=\"/live/\"><div>TV</div></a></li><li class=\"Menu-list-item\"><div role=\"button\" tabindex=\"0\"><div>Contáctanos</div></div></li></ul></div></div></div><div class=\"ButtonLogin showButton\"><div><a href=\"/login/\" class=\"btn btn-green btn--small\">Iniciar sesión</a></div></div><div class=\"MiniSearch is-tablet\"><div class=\"MiniSearch-button MiniSearch-show\" role=\"button\" tabindex=\"0\"><span class=\"icon-search\"></span></div></div><div class=\"MiniSearch is-desktop\"><div class=\"Searchv\"><div class=\"Searchv-content\"><form action=\"/search/\" class=\"\"><label for=\"search\" class=\"Searchv-label\">Buscar en Platzi</label><input type=\"text\" placeholder=\"Buscar en Platzi\" name=\"search\" id=\"search\" autoComplete=\"off\"/><button class=\"Searchv-icon\" aria-label=\"Buscar en Platzi\" tabindex=\"0\"><span class=\"icon-search\"></span></button></form></div><div class=\"Searchv-results\"></div></div></div></div></div></div><div class=\"LayoutContainer\"><div class=\"HeroContent\"><div class=\"HeroContent-container\"><div class=\"HeroContent-content\"><div class=\"HeroContent-title\"><h1><span>La escuela online de formación profesional en tecnología</span></h1></div><div class=\"HeroContent-stats\"><div class=\"HeroContent-elements\"><div class=\"HeroContent-stats-item\"><span>70<i>%</i></span><span>de los graduados de Platzi <br /> duplican sus ingresos</span></div><div class=\"HeroContent-stats-item\"><span>20<i>%</i></span><span>crean su propia empresa <br /> de tecnología o startup</span></div><div class=\"HeroContent-image\"></div></div></div><div class=\"HeroContent-action\"><a href=\"/precios/\" class=\"btn btn-green\"><span>Comienza ahora</span></a><div class=\"HeroContent-firstClass\"><button class=\"btn btn-sky firstClass\"><span>Toma tu primera clase</span></button></div></div><div class=\"Modal\"><div class=\"Modal-wrapper\"><div class=\"FirstClass\"><div class=\"FirstClass-title\"><h2><span>Toma tu primera clase</span></h2><i class=\"icon-delete\" role=\"button\" tabindex=\"0\"></i></div><div class=\"FirstClass-image\"></div><div class=\"FirstClass-list\"><div class=\"FirstClass-item\"><div class=\"SearchResults-badge\"><figure><img loading=\"lazy\" src=\"https://static.platzi.com/media/achievements/badge-diseno-interfaces-ux-f4591d4c-0fda-4e3b-bbbb-38bb0a61e724.png\" alt=\"Curso de Diseño de Interfaces y UX 2017\"/></figure></div><div class=\"FirstClass-content\"><h3>Curso de Diseño de Interfaces y UX 2017</h3><div class=\"FirstClass-arrow\"></div></div><a href=\"/clases/1140-diseno-interfaces-ux-2017/7411-introduccion-a-ux/\"></a></div><div class=\"FirstClass-item\"><div class=\"SearchResults-badge\"><figure><img loading=\"lazy\" src=\"https://static.platzi.com/media/achievements/1328-bdfaf9ae-05e1-44c3-9c14-fccbb491a7d3.png\" alt=\"Curso de Introducción al Marketing Digital\"/></figure></div><div class=\"FirstClass-content\"><h3>Curso de Introducción al Marketing Digital</h3><div class=\"FirstClass-arrow\"></div></div><a href=\"/clases/1328-introduccion-marketing/12361-bienvenida-e-introduccion/\"></a></div><div class=\"FirstClass-item\"><div class=\"SearchResults-badge\"><figure><img loading=\"lazy\" src=\"https://static.platzi.com/media/achievements/1050-bfb74f83-8e2e-4ff7-a66d-77d2c0067908.png\" alt=\"Curso Gratis de Programación Básica\"/></figure></div><div class=\"FirstClass-content\"><h3>Curso Gratis de Programación Básica</h3><div class=\"FirstClass-arrow\"></div></div><a href=\"/clases/1050-programacion-basica/25972-recap-programacion-basica/\"></a></div><div class=\"FirstClass-item\"><div class=\"SearchResults-badge\"><figure><img loading=\"lazy\" src=\"https://static.platzi.com/media/achievements/badge-ing-software-2017-18f503fd-36bd-42d8-b1a1-492865659687.png\" alt=\"Fundamentos de Ingeniería de Software\"/></figure></div><div class=\"FirstClass-content\"><h3>Fundamentos de Ingeniería de Software</h3><div class=\"FirstClass-arrow\"></div></div><a href=\"/clases/1098-ingenieria/6548-como-funcionan-las-computadoras-y-los-telefonos-mo/\"></a></div></div></div></div></div></div><div class=\"HeroContent-bottom\"><figure><img loading=\"lazy\" src=\"https://static.platzi.com/mf-landings/image/hero_bottom-6697ce26d6a643d83306e07e93b170d9.png\" alt=\"\"/></figure></div></div></div><div class=\"Diagonal\"><svg xmlns=\"http://www.w3.org/2000/svg\" viewBox=\"0 0 100 10\" preserveAspectRatio=\"none\" fill=\"white\"><polygon points=\"100 0 100 10 0 10\"></polygon></svg></div><div class=\"Business\"><div class=\"Business-wave\"></div><div class=\"Business-container\"><span>Capacitamos a tu empresa en transformación digital y las tecnologías más competitivas del mercado.</span></div></div><div class=\"HomeSearch\"><div class=\"HomeSearch-container\"><div class=\"HomeSearch-title\"><h2><span>¿En qué quieres especializarte?</span></h2></div><div class=\"HomeSearch-content\"><span class=\"icon-search_B\"></span><input type=\"search\" placeholder=\"Busca entre los más de 700 cursos\" name=\"search\" autoComplete=\"off\"/></div></div></div><div class=\"HomeCategories\"><div class=\"HomeCategories-container\"><div class=\"HomeCategories-items\"><a href=\"/categorias/desarrollo/\" class=\"HomeCategories-anchor\"><div class=\"HomeCategories-item HomeCategories-desarrollo\"><div class=\"HomeCategories-badge\" style=\"background-color:#33b13a\"><img loading=\"lazy\" src=\"https://static.platzi.com/mf-landings/image/ico-desarrollo-fa207491a4cb7b6be3e3ab41b1fecced.png\" alt=\"Desarrollo e ingeniería\"/></div><div class=\"HomeCategories-category\"><h2>Desarrollo e ingeniería</h2><span>415<!-- --> <!-- -->cursos</span></div></div></a><a href=\"/categorias/diseno/\" class=\"HomeCategories-anchor\"><div class=\"HomeCategories-item HomeCategories-diseno\"><div class=\"HomeCategories-badge\" style=\"background-color:#6b407e\"><img loading=\"lazy\" src=\"https://static.platzi.com/mf-landings/image/ico-diseno-1aeccde1b13a43e07474c34d0f261c66.png\" alt=\"Diseño y UX\"/></div><div class=\"HomeCategories-category\"><h2>Diseño y UX</h2><span>77<!-- --> <!-- -->cursos</span></div></div></a><a href=\"/categorias/marketing/\" class=\"HomeCategories-anchor\"><div class=\"HomeCategories-item HomeCategories-marketing\"><div class=\"HomeCategories-badge\" style=\"background-color:#29b8e8\"><img loading=\"lazy\" src=\"https://static.platzi.com/mf-landings/image/ico-marketing-e06e714b6435502c9c1d2ddc573ba258.png\" alt=\"Marketing\"/></div><div class=\"HomeCategories-category\"><h2>Marketing</h2><span>72<!-- --> <!-- -->cursos</span></div></div></a><a href=\"/categorias/negocios/\" class=\"HomeCategories-anchor\"><div class=\"HomeCategories-item HomeCategories-negocios\"><div class=\"HomeCategories-badge\" style=\"background-color:#f5c443\"><img loading=\"lazy\" src=\"https://static.platzi.com/mf-landings/image/ico-negocios-dc4144d0713e6155b9b955fbccf91a29.png\" alt=\"Negocios y emprendimiento\"/></div><div class=\"HomeCategories-category\"><h2>Negocios y emprendimiento</h2><span>53<!-- --> <!-- -->cursos</span></div></div></a><a href=\"/categorias/produccion-audiovisual/\" class=\"HomeCategories-anchor\"><div class=\"HomeCategories-item HomeCategories-produccion-audiovisual\"><div class=\"HomeCategories-badge\" style=\"background-color:#fa7800\"><img loading=\"lazy\" src=\"https://static.platzi.com/mf-landings/image/ico-audiovisual-c1b62eacf0b272116d683243cd490685.png\" alt=\"Producción Audiovisual\"/></div><div class=\"HomeCategories-category\"><h2>Producción Audiovisual</h2><span>23<!-- --> <!-- -->cursos</span></div></div></a><a href=\"/categorias/crecimiento-profesional/\" class=\"HomeCategories-anchor\"><div class=\"HomeCategories-item HomeCategories-crecimiento-profesional\"><div class=\"HomeCategories-badge\" style=\"background-color:#cb161d\"><img loading=\"lazy\" src=\"https://static.platzi.com/mf-landings/image/ico-crecimiento-ef17081ac63f53c197ec0f78653389f3.png\" alt=\"Crecimiento Profesional\"/></div><div class=\"HomeCategories-category\"><h2>Crecimiento Profesional</h2><span>48<!-- --> <!-- -->cursos</span></div></div></a></div></div></div><div class=\"RecentCourses\"><div class=\"RecentCourses-container\"><div class=\"RecentCourses-title\"><h2>Nuevos cursos lanzados</h2></div><div class=\"RecentCourses-list\"><div class=\"RecentCourses-element\"><div class=\"RecentCourseVideo\"><div class=\"RecentCourseVideo-iframe\"><iframe title=\"Course video\" class=\"lazyload\" data-src=\"//youtube.com/embed/_EhQ1Zrx9DI?mode=opaque&amp;amp;rel=0&amp;amp;autohide=0&amp;amp;showinfo=0&amp;amp;wmode=transparent\" frameBorder=\"0\"></iframe></div><div class=\"RecentCourseVideo-item\"><div class=\"RecentCourseVideo-badge\"><figure><img loading=\"lazy\" src=\"https://static.platzi.com/media/achievements/badges-categorias-negocios-emprendimiento-1-90ace212-529a-4741-8a55-6a56d0d48f0f-b3.png\" alt=\"Curso de Trabajo Remoto o Teletrabajo\"/></figure></div><div class=\"RecentCourseVideo-content\"><h3>Curso de Trabajo Remoto o Teletrabajo</h3><span>Desarrollo e ingeniería</span></div><a href=\"/cursos/teletrabajo-trabajo-remoto\"></a></div></div><div class=\"RecentCourses-item\"><div class=\"RecentCourses-badge\"><figure><img loading=\"lazy\" src=\"https://static.platzi.com/media/achievements/badge-configurar-eloquent-model-laravel-68179995-fe12-4709-a62e-9a03d1483a20.png\" alt=\"Curso de Manejo de Datos en Laravel con Eloquent ORM\"/></figure></div><div class=\"RecentCourses-content\"><h3>Curso de Manejo de Datos en Laravel con Eloquent ORM</h3><div class=\"RecentCourses-arrow\"></div></div><a href=\"/cursos/eloquent-laravel\"></a></div><div class=\"RecentCourses-item\"><div class=\"RecentCourses-badge\"><figure><img loading=\"lazy\" src=\"https://static.platzi.com/media/achievements/badge-microsoft-teams-6b719dc2-079f-4cba-ba24-4f8fdffab650.png\" alt=\"Curso de Microsoft Teams\"/></figure></div><div class=\"RecentCourses-content\"><h3>Curso de Microsoft Teams</h3><div class=\"RecentCourses-arrow\"></div></div><a href=\"/cursos/microsoft-teams\"></a></div><div class=\"RecentCourses-item\"><div class=\"RecentCourses-badge\"><figure><img loading=\"lazy\" src=\"https://static.platzi.com/media/achievements/badge-tecnologia-gerentes-directores-tecnicos-4a90110d-00c0-4379-a708-cce1111e5ff8.png\" alt=\"Curso de Tecnología para Gerentes y Directores no Técnicos\"/></figure></div><div class=\"RecentCourses-content\"><h3>Curso de Tecnología para Gerentes y Directores no Técnicos</h3><div class=\"RecentCourses-arrow\"></div></div><a href=\"/cursos/tecnologia-gerentes\"></a></div><div class=\"RecentCourses-item\"><div class=\"RecentCourses-badge\"><figure><img loading=\"lazy\" src=\"https://static.platzi.com/media/achievements/badge-estrategia-trading-r-9e11434a-a4c9-4855-8b27-cf262562142f.png\" alt=\"Curso de Trading Financiero con R\"/></figure></div><div class=\"RecentCourses-content\"><h3>Curso de Trading Financiero con R</h3><div class=\"RecentCourses-arrow\"></div></div><a href=\"/cursos/trading-r\"></a></div><div class=\"RecentCourses-item\"><div class=\"RecentCourses-badge\"><figure><img loading=\"lazy\" src=\"https://static.platzi.com/media/achievements/badge-creacion-contenido-instagram-stories-fa4247a3-5362-462e-aefb-ccf597bdffcb.png\" alt=\"Curso de Creación de Contenido en Instagram Stories\"/></figure></div><div class=\"RecentCourses-content\"><h3>Curso de Creación de Contenido en Instagram Stories</h3><div class=\"RecentCourses-arrow\"></div></div><a href=\"/cursos/ig-stories\"></a></div></div><div class=\"RecentCourses-element\"><div class=\"RecentCourses-item\"><div class=\"RecentCourses-badge\"><figure><img loading=\"lazy\" src=\"https://static.platzi.com/media/achievements/badge-logistica-startups-57b96ff4-ca44-4490-b438-caf2425fa265.png\" alt=\"Curso de Logística para Startups\"/></figure></div><div class=\"RecentCourses-content\"><h3>Curso de Logística para Startups</h3><div class=\"RecentCourses-arrow\"></div></div><a href=\"/cursos/logistica-startups\"></a></div><div class=\"RecentCourses-item\"><div class=\"RecentCourses-badge\"><figure><img loading=\"lazy\" src=\"https://static.platzi.com/media/achievements/badges-introduccion-ux-writing-7db734df-de9b-447d-b7e4-c00b636ac721.png\" alt=\"Curso de Introducción a UX Writing\"/></figure></div><div class=\"RecentCourses-content\"><h3>Curso de Introducción a UX Writing</h3><div class=\"RecentCourses-arrow\"></div></div><a href=\"/cursos/ux-writing\"></a></div><div class=\"RecentCourses-item\"><div class=\"RecentCourses-badge\"><figure><img loading=\"lazy\" src=\"https://static.platzi.com/media/achievements/cooking-geeks-bagde-6f4f1ddc-4f6b-4351-b915-5dd9d006e1f8.png\" alt=\"Curso de cocina para geeks\"/></figure></div><div class=\"RecentCourses-content\"><h3>Curso de cocina para geeks</h3><div class=\"RecentCourses-arrow\"></div></div><a href=\"/cursos/cooking-for-geeks\"></a></div><div class=\"RecentCourses-item\"><div class=\"RecentCourses-badge\"><figure><img loading=\"lazy\" src=\"https://static.platzi.com/media/achievements/badge-adobe-premiere-pro-26b1665d-4c55-4262-87bd-5a6a5bfa4edf.png\" alt=\"Curso de Adobe Premiere Pro\"/></figure></div><div class=\"RecentCourses-content\"><h3>Curso de Adobe Premiere Pro</h3><div class=\"RecentCourses-arrow\"></div></div><a href=\"/cursos/adobe-premiere\"></a></div><div class=\"RecentCourses-item\"><div class=\"RecentCourses-badge\"><figure><img loading=\"lazy\" src=\"https://static.platzi.com/media/achievements/badge-norma-iso-27001-86ef8bd1-b94b-4708-be13-72043fff9599.png\" alt=\"Curso de Preparación para la Certificación en la Norma ISO 27001\"/></figure></div><div class=\"RecentCourses-content\"><h3>Curso de Preparación para la Certificación en la Norma ISO 27001</h3><div class=\"RecentCourses-arrow\"></div></div><a href=\"/cursos/iso\"></a></div><div class=\"RecentCourses-item\"><div class=\"RecentCourses-badge\"><figure><img loading=\"lazy\" src=\"https://static.platzi.com/media/achievements/badge-google-tag-manager-f29bd878-1629-4c1f-be2d-43253ff1587b.png\" alt=\"Curso de Introducción a Google Tag Manager 📃\"/></figure></div><div class=\"RecentCourses-content\"><h3>Curso de Introducción a Google Tag Manager 📃</h3><div class=\"RecentCourses-arrow\"></div></div><a href=\"/cursos/gtm\"></a></div><div class=\"RecentCourses-item\"><div class=\"RecentCourses-badge\"><figure><img loading=\"lazy\" src=\"https://static.platzi.com/media/achievements/badge-profesional-diseno-videojuegos-bedff70d-0cc1-4ac8-bd0d-7826c82d5511.png\" alt=\"Curso Profesional de Diseño de Videojuegos\"/></figure></div><div class=\"RecentCourses-content\"><h3>Curso Profesional de Diseño de Videojuegos</h3><div class=\"RecentCourses-arrow\"></div></div><a href=\"/cursos/profesional-diseno-videojuegos\"></a></div><div class=\"RecentCourses-item\"><div class=\"RecentCourses-badge\"><figure><img loading=\"lazy\" src=\"https://static.platzi.com/media/achievements/badges-motivacion-equipos-trabajo-8e806ee9-6a23-417e-9eb3-f626a5f1f30e.png\" alt=\"Curso de Motivación para Equipos de Trabajo\"/></figure></div><div class=\"RecentCourses-content\"><h3>Curso de Motivación para Equipos de Trabajo</h3><div class=\"RecentCourses-arrow\"></div></div><a href=\"/cursos/motivacion\"></a></div><div class=\"RecentCourses-item\"><div class=\"RecentCourses-badge\"><figure><img loading=\"lazy\" src=\"https://static.platzi.com/media/achievements/badge-estrategia-contenido-instagram-375bb6a2-ac4a-413d-8c68-4a76c0daec2d.png\" alt=\"Curso de Estrategia de Contenido para Instagram\"/></figure></div><div class=\"RecentCourses-content\"><h3>Curso de Estrategia de Contenido para Instagram</h3><div class=\"RecentCourses-arrow\"></div></div><a href=\"/cursos/estrategia-instagram\"></a></div><div class=\"RecentCourses-item\"><div class=\"RecentCourses-badge\"><figure><img loading=\"lazy\" src=\"https://static.platzi.com/media/achievements/badge-videoconferencias-zoom-4c9edc54-9818-45fa-a19b-5d2eed6702f9.png\" alt=\"Curso de Videoconferencias con Zoom\"/></figure></div><div class=\"RecentCourses-content\"><h3>Curso de Videoconferencias con Zoom</h3><div class=\"RecentCourses-arrow\"></div></div><a href=\"/cursos/zoom\"></a></div></div></div></div></div><div class=\"NextReleases\"><div class=\"NextReleases-container\"><div class=\"NextReleases-box\"><h2>Próximos lanzamientos</h2><div class=\"NextReleases-list\"><div class=\"NextReleases-card\" style=\"border-left:4px solid #fdc001\"><div class=\"NextReleases-card-course\"><img loading=\"lazy\" src=\"https://static.platzi.com/media/achievements/badge-inventarios-excel-70f48da4-7757-489b-99c4-892774fdcbe3.png\" alt=\"Curso de Inventarios con Excel\"/><h4>Curso de Inventarios con Excel</h4></div><div class=\"NextReleases-card-launch\"><i class=\"icon-clock\" style=\"color:#fdc001\"></i><span>Lanzamiento: <!-- -->3 de jun. de 2020</span></div><a href=\"/cursos/inventarios\"></a></div><div class=\"NextReleases-card\" style=\"border-left:4px solid #012900\"><div class=\"NextReleases-card-course\"><img loading=\"lazy\" src=\"https://static.platzi.com/media/achievements/badge-testing-vuejs-d23368ed-641e-43f4-afce-32e86e05211e.png\" alt=\"Curso de Testing con Vue.js\"/><h4>Curso de Testing con Vue.js</h4></div><div class=\"NextReleases-card-launch\"><i class=\"icon-clock\" style=\"color:#012900\"></i><span>Lanzamiento: <!-- -->4 de jun. de 2020</span></div><a href=\"/cursos/testing-vuejs\"></a></div><div class=\"NextReleases-card\" style=\"border-left:4px solid #23a311\"><div class=\"NextReleases-card-course\"><img loading=\"lazy\" src=\"https://static.platzi.com/media/achievements/badge-fundamentos-web-scraping-python-1578d3cc-5f38-4c53-981e-7f4ba3f4b801.png\" alt=\"Curso de Fundamentos de Web Scraping con Python\"/><h4>Curso de Fundamentos de Web Scraping con Python</h4></div><div class=\"NextReleases-card-launch\"><i class=\"icon-clock\" style=\"color:#23a311\"></i><span>Lanzamiento: <!-- -->5 de jun. de 2020</span></div><a href=\"/cursos/web-scraping\"></a></div></div></div></div></div><div class=\"Pricing\"><h2>Elige un plan y empieza a estudiar</h2><div class=\"Plans u-wrapper is-xs\"><div class=\"StickyPlan\"><div class=\"PlanTabs\"><div class=\"PlanTab\"><div class=\"PlanTab-container is-active\"><div class=\"PlanTab-title\"><span>Platzi Expert</span></div></div></div><div class=\"PlanTab\"><div class=\"PlanTab-container\"><div class=\"PlanTab-title\"><span>Platzi Basic</span></div></div></div></div><div class=\"CurrentPlanCTA\"><div class=\"CurrentPlanCTA-info\"><div class=\"CurrentPlanCTA-price\"><figure><img loading=\"lazy\" src=\"https://static.platzi.com/media/flags/CO.png\" width=\"14\" height=\"14\" alt=\"pesos\"/></figure><p>$<!-- -->99.167<!-- --> / mes</p></div><div class=\"CurrentPlanCTA-subtitle\">En un solo pago de<span> $1.190.000</span></div></div><div class=\"CurrentPlanCTA-cta\"><a href=\"/comprar/expert/?course=todos\" class=\"btn-green btn--medium\">Elegir Expert</a></div></div></div><div class=\"PlanBody\" id=\"plan-annual_plan\"><ul><li><div class=\"PlanBody-description\">Accedes a <strong><span class=\"underline\">más</span> de 150 cursos y 24 carreras</strong></div><div class=\"PlanBody-check\"><span class=\"icon icon-check\"></span></div></li><li><div class=\"PlanBody-description\"><span class=\"is-exclusive\">10<!-- --> cursos</span> exclusivos</div><div class=\"PlanBody-check\"><span class=\"icon icon-check\"></span></div></li><li><div class=\"PlanBody-description\">Clases en vivo o a tu ritmo con profesores y mentores</div><div class=\"PlanBody-check\"><span class=\"icon icon-check\"></span></div></li><li><div class=\"PlanBody-description\">Estudia donde quieras en la web o en tu teléfono</div><div class=\"PlanBody-check\"><span class=\"icon-check icon\"></span></div></li><li><div class=\"PlanBody-description\">Certificados digitales de los cursos que apruebas</div><div class=\"PlanBody-check\"><span class=\"icon-check icon\"></span></div></li><li><div class=\"PlanBody-description\">Recibe los certificados de tus carreras, vivas donde vivas</div><div class=\"PlanBody-check\"><span class=\"icon icon-check\"></span></div></li><li><div class=\"PlanBody-description\">Acceso a las actualizaciones de todos los cursos</div><div class=\"PlanBody-check\"><span class=\"icon-check icon\"></span></div></li><li><div class=\"PlanBody-description\">Pago con tarjetas de crédito o débito</div><div class=\"PlanBody-check\"><span class=\"icon-check icon\"></span></div></li><li><div class=\"PlanBody-description\">Pago en depósito, Paypal y otros métodos</div><div class=\"PlanBody-check\"><span class=\"icon icon-check\"></span></div></li><li><div class=\"PlanBody-description\">Entrada exclusiva al Taller de Creación de Startups</div><div class=\"PlanBody-check\"><span class=\"icon icon-check\"></span></div></li><li><div class=\"PlanBody-description\">Entrada preferencial a PlatziConf en todo el mundo</div><div class=\"PlanBody-check\"><span class=\"icon icon-check\"></span></div></li><li><div class=\"PlanBody-description\">Descarga los cursos offline con la app de iOS o Android</div><div class=\"PlanBody-check\"><span class=\"icon icon-check\"></span></div></li></ul></div></div><div class=\"Plans u-wrapper is-lg\"><div class=\"PlansContainer\"><div class=\"PlansBenefits\"><h5>Qué obtienes</h5><ul><li><p>Accedes a <strong><span>más</span> de <!-- -->700<!-- --> cursos y <!-- -->50<!-- --> carreras</strong></p></li><li><p><span class=\"is-exclusive\">10<!-- --> cursos</span> exclusivos</p></li><li><p>Clases en vivo o a tu ritmo con profesores y mentores</p></li><li><p>Estudia donde quieras en la web o en tu teléfono</p></li><li><p>Certificados digitales de los cursos que apruebas</p></li><li><p>Recibe los certificados de tus carreras, vivas donde vivas</p></li><li><p>Acceso a las actualizaciones de todos los cursos</p></li><li class=\"PlansBenefits-deposit\"><p>Pago con tarjetas de crédito o débito</p><div class=\"PlansBenefits-methods\"><figure><img loading=\"lazy\" src=\"https://static.platzi.com/mf-landings/image/visa-23255aeaf4525bc512d481c290b4e9f0.png\" height=\"14\" alt=\"Visa\"/></figure><figure><img loading=\"lazy\" src=\"https://static.platzi.com/mf-landings/image/mastercard-bb9b8fdc8dc8bc33e39e5ac8022c0c30.png\" height=\"14\" alt=\"Mastercard\"/></figure><figure><img loading=\"lazy\" src=\"https://static.platzi.com/mf-landings/image/american-6f27dfa00c19eca2cf6981ca5cc02db7.png\" height=\"14\" alt=\"American Express\"/></figure></div></li><li class=\"PlansBenefits-deposit\"><p>Pago con depósito, PayPal y otros métodos</p><div class=\"PlansBenefits-methods\"><figure><img loading=\"lazy\" src=\"https://static.platzi.com/mf-landings/image/paypal-c85fc91d48a27de8e25d4cdcc169bd2c.png\" height=\"14\" alt=\"PayPal\"/></figure><figure><img loading=\"lazy\" src=\"https://static.platzi.com/mf-landings/image/efectivo-e4a899f62d2d3d2120affda1a513623b.png\" height=\"14\" alt=\"Depósito\"/></figure></div></li><li><p>Entrada exclusiva al Taller de Creación de Startups</p></li><li><p>Entrada preferencial a PlatziConf en todo el mundo</p></li><li><p>Descarga los cursos offline con la app de iOS o Android</p></li></ul></div><div class=\"PlanColumn is-annual\"><p class=\"PlanColumn-promo\"><span>Recomendado</span></p><div class=\"PlanColumn-content\"><div class=\"PlanColumn-title\"><h6>Platzi Expert</h6></div><div class=\"PlanColumn-header\"><div class=\"PlanColumn-details\"><div class=\"PlanColumn-cost\"><p><strong>$<!-- -->99.167</strong></p><img loading=\"lazy\" src=\"https://static.platzi.com/media/flags/CO.png\" width=\"16\" height=\"16\" alt=\"Bandera de tu país\"/></div><p class=\"PlanColumn-currency\"><small>pesos<!-- --> al mes</small></p><p class=\"PlanColumn-subtitle\">En un solo pago de<span> $1.190.000</span></p></div></div><div class=\"PlanColumn-row\"><span class=\"icon icon-check\"></span></div><div class=\"PlanColumn-row\"><span class=\"icon icon-check\"></span></div><div class=\"PlanColumn-row\"><span class=\"icon icon-check\"></span></div><div class=\"PlanColumn-row\"><span class=\"icon-check\"></span></div><div class=\"PlanColumn-row\"><span class=\"icon-check\"></span></div><div class=\"PlanColumn-row\"><span class=\"icon icon-check\"></span></div><div class=\"PlanColumn-row\"><span class=\"icon icon-check\"></span></div><div class=\"PlanColumn-row\"><span class=\"icon-check\"></span></div><div class=\"PlanColumn-row\"><span class=\"icon icon-check\"></span></div><div class=\"PlanColumn-row\"><span class=\"icon icon-check\"></span></div><div class=\"PlanColumn-row\"><span class=\"icon icon-check\"></span></div><div class=\"PlanColumn-row\"><span class=\"icon icon-check\"></span></div><div class=\"PlanColumn-footer\"><div><a href=\"/comprar/expert/?course=todos\" class=\"btn-green btn--medium\">Comprar Plan</a></div></div></div></div><div class=\"PlanColumn\"><div class=\"PlanColumn-content\"><div class=\"PlanColumn-title\"><h6>Platzi Basic</h6></div><div class=\"PlanColumn-header\"><div class=\"PlanColumn-details\"><div class=\"PlanColumn-cost\"><p><strong>$<!-- -->159.000</strong></p><img loading=\"lazy\" src=\"https://static.platzi.com/media/flags/CO.png\" width=\"16\" height=\"16\" alt=\"Bandera de tu país\"/></div><p class=\"PlanColumn-currency\"><small>pesos</small></p><p class=\"PlanColumn-subtitle\">Pagas mes a mes</p></div></div><div class=\"PlanColumn-row\"><span class=\"icon icon-check\"></span></div><div class=\"PlanColumn-row\"><span class=\"icon icon-delete\"></span></div><div class=\"PlanColumn-row\"><span class=\"icon icon-check\"></span></div><div class=\"PlanColumn-row\"><span class=\"icon-check\"></span></div><div class=\"PlanColumn-row\"><span class=\"icon-check\"></span></div><div class=\"PlanColumn-row\"><span class=\"icon icon-delete\"></span></div><div class=\"PlanColumn-row\"><span class=\"icon icon-check\"></span></div><div class=\"PlanColumn-row\"><span class=\"icon-check\"></span></div><div class=\"PlanColumn-row\"><span class=\"icon icon-delete\"></span></div><div class=\"PlanColumn-row\"><span class=\"icon icon-delete\"></span></div><div class=\"PlanColumn-row\"><span class=\"icon icon-delete\"></span></div><div class=\"PlanColumn-row\"><span class=\"icon icon-delete\"></span></div><div class=\"PlanColumn-footer\"><div><a href=\"/comprar/basic/?course=todos\" class=\"btn-green btn--medium\">Comprar Plan</a></div></div></div></div></div></div><div class=\"row u-row-wrapper center-xs\"><div class=\"col-xs-12 col-sm-11 col-md-9\"><div class=\"Companies\">¿Necesitas capacitación para tu empresa? Tenemos planes especiales. Conócelos en <a href=\"https://platzi.com/empresas/\" target=\"_blank\" rel=\"noreferrer\">platzi.com/empresas</a></div></div></div><div class=\"ExclusiveCourses\"><div class=\"ExclusiveCourses-container\"><div class=\"ExclusiveCourses-content\"><h4>Cursos exclusivos de Platzi Expert</h4><div class=\"ExclusiveCourses-items\"><div class=\"CareerCourseItem\"><div style=\"border-bottom-color:#fdc001\" class=\"CareerCourseItem-wrapper\"><a class=\"CareerCourseItem-link\" href=\"/cursos/taller-startups/\" target=\"_blank\" rel=\"noreferrer\"></a><div class=\"CareerCourseItem-content\"><figure class=\"CareerCourseItem-badge\"><img loading=\"lazy\" alt=\"Taller de creación de Startups\" src=\"https://static.platzi.com/media/achievements/badge-taller-creacion-startups-f72974de-ce1e-4767-bd47-988ed8f3369a.png\" height=\"50\" width=\"50\"/></figure><h5 class=\"CareerCourseItem-title\">Taller de creación de Startups</h5></div></div></div><div class=\"CareerCourseItem\"><div style=\"border-bottom-color:#fdc001\" class=\"CareerCourseItem-wrapper\"><a class=\"CareerCourseItem-link\" href=\"/cursos/creacion-de-empresas/\" target=\"_blank\" rel=\"noreferrer\"></a><div class=\"CareerCourseItem-content\"><figure class=\"CareerCourseItem-badge\"><img loading=\"lazy\" alt=\"Introducción a la Creación de Empresas y Startups\" src=\"https://static.platzi.com/media/achievements/1186-0cbf6899-eeb8-4b9e-9bf9-a55a004e4307.png\" height=\"50\" width=\"50\"/></figure><h5 class=\"CareerCourseItem-title\">Introducción a la Creación de Empresas y Startups</h5></div></div></div><div class=\"CareerCourseItem\"><div style=\"border-bottom-color:#ffe600\" class=\"CareerCourseItem-wrapper\"><a class=\"CareerCourseItem-link\" href=\"/cursos/ingles/\" target=\"_blank\" rel=\"noreferrer\"></a><div class=\"CareerCourseItem-content\"><figure class=\"CareerCourseItem-badge\"><img loading=\"lazy\" alt=\"Curso de Inglés Técnico para Profesionales\" src=\"https://static.platzi.com/media/achievements/1188-ea5968c2-aedf-436c-bd94-9141a594770f.png\" height=\"50\" width=\"50\"/></figure><h5 class=\"CareerCourseItem-title\">Curso de Inglés Técnico para Profesionales</h5></div></div></div><div class=\"CareerCourseItem\"><div style=\"border-bottom-color:#fdc001\" class=\"CareerCourseItem-wrapper\"><a class=\"CareerCourseItem-link\" href=\"/cursos/financiera-startups-2017/\" target=\"_blank\" rel=\"noreferrer\"></a><div class=\"CareerCourseItem-content\"><figure class=\"CareerCourseItem-badge\"><img loading=\"lazy\" alt=\"Curso de Gestión Financiera para Startups - 2017\" src=\"https://static.platzi.com/media/achievements/badge-financiera-bac2ce86-e4f5-41fe-83da-708ecb16e79a.png\" height=\"50\" width=\"50\"/></figure><h5 class=\"CareerCourseItem-title\">Curso de Gestión Financiera para Startups - 2017</h5></div></div></div><div class=\"CareerCourseItem\"><div style=\"border-bottom-color:#95c73f\" class=\"CareerCourseItem-wrapper\"><a class=\"CareerCourseItem-link\" href=\"/cursos/developer/\" target=\"_blank\" rel=\"noreferrer\"></a><div class=\"CareerCourseItem-content\"><figure class=\"CareerCourseItem-badge\"><img loading=\"lazy\" alt=\"Cómo Conseguir Trabajo en Programación\" src=\"https://static.platzi.com/media/achievements/1227-863956bd-65fd-4ca3-b2de-51d8e67786ca.png\" height=\"50\" width=\"50\"/></figure><h5 class=\"CareerCourseItem-title\">Cómo Conseguir Trabajo en Programación</h5></div></div></div><div class=\"CareerCourseItem\"><div style=\"border-bottom-color:#fdc001\" class=\"CareerCourseItem-wrapper\"><a class=\"CareerCourseItem-link\" href=\"/cursos/internacionalizacion-startups/\" target=\"_blank\" rel=\"noreferrer\"></a><div class=\"CareerCourseItem-content\"><figure class=\"CareerCourseItem-badge\"><img loading=\"lazy\" alt=\"Curso de Internacionalización para Startups\" src=\"https://static.platzi.com/media/achievements/1266-0dbaeb6d-379d-4e62-add3-902e718bc95e.png\" height=\"50\" width=\"50\"/></figure><h5 class=\"CareerCourseItem-title\">Curso de Internacionalización para Startups</h5></div></div></div><div class=\"CareerCourseItem\"><div style=\"border-bottom-color:#e32020\" class=\"CareerCourseItem-wrapper\"><a class=\"CareerCourseItem-link\" href=\"/cursos/ingles-basico/\" target=\"_blank\" rel=\"noreferrer\"></a><div class=\"CareerCourseItem-content\"><figure class=\"CareerCourseItem-badge\"><img loading=\"lazy\" alt=\"Curso de Inglés Básico: Fundamentos\" src=\"https://static.platzi.com/media/achievements/badge-basico-ingles-e073f711-763d-4129-badc-5e4baa78b225.png\" height=\"50\" width=\"50\"/></figure><h5 class=\"CareerCourseItem-title\">Curso de Inglés Básico: Fundamentos</h5></div></div></div><div class=\"CareerCourseItem\"><div style=\"border-bottom-color:#e32020\" class=\"CareerCourseItem-wrapper\"><a class=\"CareerCourseItem-link\" href=\"/cursos/ingles-gramatica/\" target=\"_blank\" rel=\"noreferrer\"></a><div class=\"CareerCourseItem-content\"><figure class=\"CareerCourseItem-badge\"><img loading=\"lazy\" alt=\"Curso de Inglés Básico: Gramática\" src=\"https://static.platzi.com/media/achievements/1370-836f01ea-6748-4c9f-a8e0-ce51c7c28d0b.png\" height=\"50\" width=\"50\"/></figure><h5 class=\"CareerCourseItem-title\">Curso de Inglés Básico: Gramática</h5></div></div></div><div class=\"CareerCourseItem\"><div style=\"border-bottom-color:#e32020\" class=\"CareerCourseItem-wrapper\"><a class=\"CareerCourseItem-link\" href=\"/cursos/ingles-conversacion/\" target=\"_blank\" rel=\"noreferrer\"></a><div class=\"CareerCourseItem-content\"><figure class=\"CareerCourseItem-badge\"><img loading=\"lazy\" alt=\"Curso de Inglés Básico: Conversación\" src=\"https://static.platzi.com/media/achievements/1371-db5ea3c7-4ac9-4b61-b786-9346ebb3fc7f.png\" height=\"50\" width=\"50\"/></figure><h5 class=\"CareerCourseItem-title\">Curso de Inglés Básico: Conversación</h5></div></div></div><div class=\"CareerCourseItem\"><div style=\"border-bottom-color:#98ca3f\" class=\"CareerCourseItem-wrapper\"><a class=\"CareerCourseItem-link\" href=\"/cursos/trading-basico/\" target=\"_blank\" rel=\"noreferrer\"></a><div class=\"CareerCourseItem-content\"><figure class=\"CareerCourseItem-badge\"><img loading=\"lazy\" alt=\"Curso de Introducción al Trading\" src=\"https://static.platzi.com/media/achievements/1403-5739eea5-5dc1-46d8-bc02-0df8c54d4b54.png\" height=\"50\" width=\"50\"/></figure><h5 class=\"CareerCourseItem-title\">Curso de Introducción al Trading</h5></div></div></div></div></div></div></div></div><div class=\"Platform\"><div class=\"Platform-container\"><div class=\"Platform-title\"><h2>Platzi funciona</h2></div><div class=\"Platform-item\"><div class=\"Platform-step\"><h3>Logra tus metas:</h3><span>No sólo videos: Clases concretas, descargables, prácticas y desde cualquier dispositivo.</span></div><div class=\"Platform-figure\"><figure><img loading=\"lazy\" src=\"https://static.platzi.com/static/images/home-v4/platform_goals.png\" alt=\"No sólo videos: Clases concretas, descargables, prácticas y desde cualquier dispositivo.\"/></figure></div></div><div class=\"Platform-item-reverse\"><div class=\"Platform-step\"><h3>Examen de Certificación</h3><span>Un diploma de certificación por curso y carrera. Tendrás proyectos reales para tu portafolio.</span></div><div class=\"Platform-figure\"><figure><img loading=\"lazy\" src=\"https://static.platzi.com/static/images/home-v4/platform_certificate.png\" alt=\"Un diploma de certificación por curso y carrera. Tendrás proyectos reales para tu portafolio.\"/></figure></div></div><div class=\"Platform-item\"><div class=\"Platform-step\"><h3>La mejor comunidad</h3><span>Crearemos una ruta de aprendizaje personalizada y toda nuestra comunidad te acompañará.</span></div><div class=\"Platform-figure\"><figure><img loading=\"lazy\" src=\"https://static.platzi.com/static/images/home-v4/platform_community.png\" alt=\"Crearemos una ruta de aprendizaje personalizada y toda nuestra comunidad te acompañará.\"/></figure></div></div></div></div><div class=\"HomeTestimonials\"><div class=\"HomeTestimonials-container\"><div class=\"HomeTestimonials-title\"><h2>Historias y testimonios</h2></div><div class=\"HomeTestimonials-list\"><div class=\"HomeTestimonials-card\"><div class=\"HomeTestimonials-bubble\"><span>Comencé a estudiar en Platzi gracias a un convenio que tienen con Apps.co y me encantaron los cursos, entonces supe que en Platzi iba a cumplir mi sueño de aprender a programar para hacer una app móvil.</span></div><div class=\"HomeTestimonials-profile\"><div class=\"HomeTestimonials-avatar\"><img loading=\"lazy\" src=\"https://static.platzi.com/media/testimony/IMG_20181107_171009.jpg\" alt=\"Cinthya Cabanzo\" class=\"avatar\"/><img loading=\"lazy\" src=\"https://static.platzi.com/media/flags/CO.png\" alt=\"Colombia\" class=\"userBadge\"/></div><div class=\"HomeTestimonials-userName\"><a href=\"/@CinthyaCabanzo/\"><h4>Cinthya Cabanzo</h4>@<!-- -->CinthyaCabanzo</a></div></div></div><div class=\"HomeTestimonials-card\"><div class=\"HomeTestimonials-bubble\"><span>Con Platzi entendí que la programación se convierte en parte de tu vida y con ella eres capaz de hacer cualquier cosa que te propongas. </span></div><div class=\"HomeTestimonials-profile\"><div class=\"HomeTestimonials-avatar\"><img loading=\"lazy\" src=\"https://static.platzi.com/media/testimony/juandc1x1.jpg\" alt=\"Juan David Castro\" class=\"avatar\"/><img loading=\"lazy\" src=\"https://static.platzi.com/media/flags/CO.png\" alt=\"Colombia\" class=\"userBadge\"/></div><div class=\"HomeTestimonials-userName\"><a href=\"/@juandc/\"><h4>Juan David Castro</h4>@<!-- -->juandc</a></div></div></div><div class=\"HomeTestimonials-card\"><div class=\"HomeTestimonials-bubble\"><span>Platzi es una de las mejores plataformas de estudio online, te ayuda a perfeccionar, mejorar y estar informado de las nuevas tendencias de tu carrera. Con todo lo que he aprendido he podido implementarlo en mi emprendimiento.</span></div><div class=\"HomeTestimonials-profile\"><div class=\"HomeTestimonials-avatar\"><img loading=\"lazy\" src=\"https://static.platzi.com/media/testimony/AJ0A7239.jpg\" alt=\"Laura Camila Pregonero\" class=\"avatar\"/><img loading=\"lazy\" src=\"https://static.platzi.com/media/flags/CO.png\" alt=\"Colombia\" class=\"userBadge\"/></div><div class=\"HomeTestimonials-userName\"><a href=\"/@Laurapregonero/\"><h4>Laura Camila Pregonero</h4>@<!-- -->Laurapregonero</a></div></div></div></div><div class=\"HomeTestimonials-all\"><h3>Platzi es la estrategia de formación de miles de personas para conseguir un mejor empleo o crear una empresa de tecnología</h3></div></div><div class=\"HomeTestimonials-wave\"></div></div><div class=\"HomeCta\"><div class=\"HomeCta-container\"><div class=\"HomeCta-content\"><div class=\"HomeCta-title\"><h2><span>La escuela online de formación profesional en tecnología</span></h2></div><div class=\"HomeCta-actions\"><a href=\"/precios/\" class=\"btn btn-green\"><span>Comienza ahora</span></a></div></div></div></div></div><div class=\"\"><div class=\"FooterContainer-up\"><div class=\"u-wrapper FooterGrid-up\"><div class=\"SloganSection\"><figure><img loading=\"lazy\" src=\"https://static.platzi.com/static/images/footer/logo.png\" alt=\"Platzi\"/></figure><p><span>Transformamos la economía de nuestros países entrenando a la próxima generación de profesionales en tecnología.</span></p></div><div class=\"SocialLayout\"><span>Aprende en nuestras redes:</span><a href=\"https://twitter.com/platzi\" class=\"SocialItem\" target=\"_blank\" rel=\"noreferrer\"><span class=\"icon-twt\"></span></a><a href=\"https://www.youtube.com/channel/UC55-mxUj5Nj3niXFReG44OQ\" class=\"SocialItem\" target=\"_blank\" rel=\"noreferrer\"><span class=\"icon-youtube-play\"></span></a><a href=\"https://facebook.com/platzi\" class=\"SocialItem\" target=\"_blank\" rel=\"noreferrer\"><span class=\"icon-fcbk\"></span></a><a href=\"https://www.instagram.com/platzi/\" class=\"SocialItem\" target=\"_blank\" rel=\"noreferrer\"><span class=\"icon-instagram\"></span></a></div><div class=\"CategoriesSection\"><div href=\"/categorias/desarrollo/\" class=\"Category\" style=\"border-left:solid 3px #33b13a\"><a href=\"/categorias/desarrollo/\">Desarrollo e ingeniería</a><div class=\"Arrow\"></div></div><div href=\"/categorias/diseno/\" class=\"Category\" style=\"border-left:solid 3px #6b407e\"><a href=\"/categorias/diseno/\">Diseño y UX</a><div class=\"Arrow\"></div></div><div href=\"/categorias/marketing/\" class=\"Category\" style=\"border-left:solid 3px #29b8e8\"><a href=\"/categorias/marketing/\">Marketing</a><div class=\"Arrow\"></div></div><div href=\"/categorias/negocios/\" class=\"Category\" style=\"border-left:solid 3px #f5c443\"><a href=\"/categorias/negocios/\">Negocios y emprendimiento</a><div class=\"Arrow\"></div></div><div href=\"/categorias/produccion-audiovisual/\" class=\"Category\" style=\"border-left:solid 3px #fa7800\"><a href=\"/categorias/produccion-audiovisual/\">Producción Audiovisual</a><div class=\"Arrow\"></div></div><div href=\"/categorias/crecimiento-profesional/\" class=\"Category\" style=\"border-left:solid 3px #cb161d\"><a href=\"/categorias/crecimiento-profesional/\">Crecimiento Profesional</a><div class=\"Arrow\"></div></div></div><div class=\"CertifiersLayout\"><span>Certificadores oficiales en tecnologías</span><div class=\"Certifier\"><a href=\"\" target=\"_blank\" rel=\"noreferrer\" class=\"Certifier-link\"><figure><img loading=\"lazy\" src=\"https://static.platzi.com/static/images/footer/logo-ibm.png\" alt=\"IBM\"/></figure></a></div><div class=\"Certifier\"><a href=\"\" target=\"_blank\" rel=\"noreferrer\" class=\"Certifier-link\"><figure><img loading=\"lazy\" src=\"https://static.platzi.com/static/images/footer/logo-unity.png\" alt=\"Unity\"/></figure></a></div></div><div class=\"AwardsLayout\"><span>Reconocidos y premiados por</span><div class=\"Award\"><a href=\"https://platzi.com/blog/platzi-y-combinator/\" target=\"_blank\" rel=\"noreferrer\" class=\"Award-link\"><figure><img loading=\"lazy\" src=\"https://static.platzi.com/static/images/footer/yc.png\" alt=\"Y Combinator\"/></figure></a></div><div class=\"Award\"><a href=\"https://platzi.com/blog/platzi-gana-premio-educacion/\" target=\"_blank\" rel=\"noreferrer\" class=\"Award-link\"><figure><img loading=\"lazy\" src=\"https://static.platzi.com/static/images/footer/asugsv.png\" alt=\"ASU + GSV Summit\"/></figure></a></div></div></div></div><div class=\"FooterContainer-mid\"><div class=\"SubscribeSectionV2 u-wrapper\"><div class=\"SubscribeSectionV2-copy\"><span>Entérate de todas las novedades en educación, negocios y tecnología</span></div><form class=\"SubscribeSectionV2-form\"><input type=\"hidden\" name=\"origin\" value=\"footer_subscription\"/><div class=\"FormInput SubscribeInput\"><input type=\"email\" id=\"subscribe\" name=\"subscribe\" required=\"\" autoComplete=\"off\" placeholder=\"Ingresa tu correo electrónico\" class=\"FormInput-field\" value=\"\"/><label for=\"subscribe\" class=\"FormInput-label\">Ingresa tu correo electrónico</label><p class=\"FormInput-error\"></p></div><button class=\"btn btn-sky btn--medium\"><span>Suscríbete</span></button></form></div></div><div class=\"FooterContainer-bottom\"><div class=\"u-wrapper FooterGrid-bottom\"><div class=\"MenuLayout\"><a href=\"/faq/\" class=\"MenuItem\">Preguntas frecuentes</a><a href=\"/contacto/\" class=\"MenuItem\">Contáctanos</a><a href=\"/prensa/\" class=\"MenuItem\">Prensa</a><a href=\"/conf/todas/\" class=\"MenuItem\">Conferencias</a><a href=\"/tos/\" class=\"MenuItem\">Términos y Condiciones</a><a href=\"/privacy/\" class=\"MenuItem\">Privacidad</a><a href=\"/historias/\" class=\"MenuItem\">Estudiantes</a><a href=\"/hola/\" class=\"MenuItem\">Hola</a></div><div class=\"LanguageLayout\"><a class=\"LangButton\" href=\"https://platzi.com.br\"><span>pt</span><img loading=\"lazy\" class=\"FlagCircle\" src=\"https://static.platzi.com/static/images/flags/brazil.jpg\" alt=\"Country Flag\" width=\"16px\" height=\"16px\"/></a><a class=\"LangButton\" href=\"https://platzi.com\"><span>es</span><img loading=\"lazy\" class=\"FlagCircle\" src=\"https://static.platzi.com/static/images/flags/espana.jpg\" alt=\"Country Flag\" width=\"16px\" height=\"16px\"/></a><a class=\"LangButton\" href=\"https://courses.platzi.com\"><span>en</span><img loading=\"lazy\" class=\"FlagCircle\" src=\"https://static.platzi.com/static/images/flags/united-states.jpg\" alt=\"Country Flag\" width=\"16px\" height=\"16px\"/></a></div><div class=\"LoveLayout\"><p><span>De LATAM con </span><span class=\"icon-heart\"></span><span>para el mundo</span></p></div></div></div></div></div></div>\n",
      "        </div>\n",
      "          <script id=\"preloadedState\">window.__PRELOADED_STATE__ = {\"contactInfo\":{\"enabled\":true,\"isOrganizer\":false,\"isAuthenticated\":false,\"flag\":\"https://static.platzi.com/media/flags/CO.png\",\"organizationId\":1,\"lang\":\"es\",\"faq_title\":\"¿Tienes alguna duda o quieres comunicarte con nosotros?\",\"faq\":[{\"title\":\"¿Cómo funcionan los cursos? ¿Debo seguir un horario?\",\"cta\":\"https://platzi.com/faq/#como-funcionan-cursos\"},{\"title\":\"¿Qué planes tienen disponibles para mi?\",\"cta\":\"https://platzi.com/faq/#que-planes\"},{\"title\":\"¿Qué medios de pago aceptan?\",\"cta\":\"https://platzi.com/faq/#medios-pago\"},{\"title\":\"¿Cómo puedo pagar mi suscripción en cuota o mensualidades?\",\"cta\":\"https://platzi.com/faq/#mensualidades\"},{\"title\":\"Contactarme por mail\",\"cta\":\"mailto:team@platzi.com\"}],\"country\":\"colombia\",\"hasSubscription\":false,\"i18n\":{\"i18n_menu\":{\"planExpertText\":\"Desarrolla tus habilidades en programación, diseño, producción audiovisual, marketing y muchas más. Mide tu progreso y recibe certificados con tu nombre a finalizar cada curso.\",\"telephone\":\"Teléfono\",\"terms\":\"Términos de Uso\",\"accept\":\"Términos de Uso\",\"privacy\":\"políticas de privacidad\",\"dm\":\"Mensaje Directo\",\"agree\":\"Aquí puedes ver nuestros {terms} y actualizaciones de nuestras {privacy}\",\"planExpert\":\"Plan Expert\",\"contactus_title\":\"¿Tienes dudas o quieres comunicarte con nosotros?\",\"contactus_subtitle\":\"Elige el medio que más te convenga, te sugerimos \",\"acceptTerms\":\"Nunca pares de aprender sobre la seguridad de tus datos\",\"write\":\"Escríbenos\"}}},\"header\":{\"enableSubscription\":true,\"menuItems\":[{\"name\":\"Cursos\",\"url\":\"/cursos/\"},{\"name\":\"Blog\",\"url\":\"/blog/\"},{\"name\":\"Foro\",\"url\":\"/foro/\"},{\"name\":\"Agenda\",\"url\":\"/agenda/\"},{\"name\":\"TV\",\"url\":\"/live/\"},{\"name\":\"Contáctanos\",\"url\":\"\",\"type\":\"contact\"}],\"loggedMenu\":[{\"name\":\"Empleos\",\"icon\":\"icon-suitecase_B\",\"url\":\"/empleos/\"},{\"name\":\"Mensajes Directos\",\"type\":\"direct_messages\",\"icon\":\"icon-cloud\",\"url\":\"/mensajes-directos/\"},{\"name\":\"Obtén 1 mes gratis\",\"icon\":\"icon-gift_A\",\"type\":\"referal\",\"url\":\"/mi-suscripcion/referidos/\"},{\"name\":\"Mi Suscripción\",\"icon\":\"icon-platzi\",\"type\":\"my_subscription\",\"url\":\"/mi-suscripcion/\"}],\"socials\":[{\"icon\":\"icon-twt\",\"url\":\"https://twitter.com/platzi\"},{\"icon\":\"icon-youtube-play\",\"url\":\"https://www.youtube.com/channel/UC55-mxUj5Nj3niXFReG44OQ\"},{\"icon\":\"icon-fcbk\",\"url\":\"https://facebook.com/platzi\"},{\"icon\":\"icon-instagram\",\"url\":\"https://www.instagram.com/platzi/\"}],\"official_companies\":[{\"logo\":\"https://static.platzi.com/static/images/footer/logo-ibm.png\",\"name\":\"IBM\",\"url\":\"\"},{\"logo\":\"https://static.platzi.com/static/images/footer/logo-unity.png\",\"name\":\"Unity\",\"url\":\"\"}],\"organization_id\":1,\"enableSearch\":true,\"logo\":\"https://static.platzi.com/static/images/footer/logo.png\",\"live\":{\"active\":false,\"time\":\"\",\"url\":\"\",\"title\":\"\",\"badge\":\"\"},\"isLogged\":false,\"isHispanic\":true,\"country_name\":\"Colombia\",\"ask_billing_data\":false,\"awards\":[{\"logo\":\"https://static.platzi.com/static/images/footer/yc.png\",\"name\":\"Y Combinator\",\"url\":\"https://platzi.com/blog/platzi-y-combinator/\"},{\"logo\":\"https://static.platzi.com/static/images/footer/asugsv.png\",\"name\":\"ASU + GSV Summit\",\"url\":\"https://platzi.com/blog/platzi-gana-premio-educacion/\"}],\"userInfo\":{\"points\":0,\"referalUrl\":\"\",\"userType\":\"\",\"isAuthenticated\":false,\"userId\":0,\"profileUrl\":\"\",\"plan\":\"\",\"name\":\"\",\"subscription_time\":\"\",\"lastCourse\":[],\"username\":\"\",\"country\":\"\",\"isBundleUser\":false,\"phoneNumber\":\"\",\"learningPathsAllowed\":1,\"avatar\":\"\",\"email\":\"\"},\"locale\":\"es-CO\",\"languages\":[{\"url\":\"https://platzi.com.br\",\"lang_name\":\"Portugués\",\"lang\":\"pt\",\"flag\":\"https://static.platzi.com/static/images/flags/brazil.jpg\"},{\"url\":\"https://platzi.com\",\"lang_name\":\"Español\",\"lang\":\"es\",\"flag\":\"https://static.platzi.com/static/images/flags/espana.jpg\"},{\"url\":\"https://courses.platzi.com\",\"lang_name\":\"Inglés\",\"lang\":\"en\",\"flag\":\"https://static.platzi.com/static/images/flags/united-states.jpg\"}],\"promo_banner\":{\"primary_color\":\"\",\"active\":false,\"pricing\":{\"price\":\"\",\"flag\":\"\"},\"primary_log\":\"\",\"url\":\"\",\"end_date\":\"\",\"tertiary_color\":\"\",\"secondary_logo\":\"\",\"secondary_color\":\"\"},\"categories\":[{\"color\":\"#33b13a\",\"name\":\"Desarrollo e ingeniería\",\"url\":\"/categorias/desarrollo/\"},{\"color\":\"#6b407e\",\"name\":\"Diseño y UX\",\"url\":\"/categorias/diseno/\"},{\"color\":\"#29b8e8\",\"name\":\"Marketing\",\"url\":\"/categorias/marketing/\"},{\"color\":\"#f5c443\",\"name\":\"Negocios y emprendimiento\",\"url\":\"/categorias/negocios/\"},{\"color\":\"#fa7800\",\"name\":\"Producción Audiovisual\",\"url\":\"/categorias/produccion-audiovisual/\"},{\"color\":\"#cb161d\",\"name\":\"Crecimiento Profesional\",\"url\":\"/categorias/crecimiento-profesional/\"}],\"options\":[{\"title\":\"Preguntas frecuentes\",\"url\":\"/faq/\"},{\"title\":\"Contáctanos\",\"url\":\"/contacto/\"},{\"title\":\"Prensa\",\"url\":\"/prensa/\"},{\"title\":\"Conferencias\",\"url\":\"/conf/todas/\"},{\"title\":\"Términos y Condiciones\",\"url\":\"/tos/\"},{\"title\":\"Privacidad\",\"url\":\"/privacy/\"},{\"title\":\"Estudiantes\",\"url\":\"/historias/\"},{\"title\":\"Hola\",\"url\":\"/hola/\"}]},\"home\":{\"business\":{\"title\":\"Capacitamos a tu empresa en transformación digital y las tecnologías más competitivas del mercado.\",\"cta\":\"\\u003cstrong>Inscribe tu empresa\\u003c/strong>\"},\"entities\":[],\"testimonies\":[{\"socialUrl\":\"https://facebook.com/656860292659\",\"profile\":\"/@CinthyaCabanzo/\",\"name\":\"Cinthya Cabanzo\",\"flag\":\"https://static.platzi.com/media/flags/CO.png\",\"text\":\"Comencé a estudiar en Platzi gracias a un convenio que tienen con Apps.co y me encantaron los cursos, entonces supe que en Platzi iba a cumplir mi sueño de aprender a programar para hacer una app móvil.\",\"username\":\"CinthyaCabanzo\",\"country\":\"Colombia\",\"socialName\":\"CinthyaCabanzo\",\"date_joined\":\"2017-10-31 15:48:43+00:00\",\"image\":\"https://static.platzi.com/media/testimony/IMG_20181107_171009.jpg\"},{\"socialUrl\":\"https://twitter.com/fjuandc\",\"profile\":\"/@juandc/\",\"name\":\"Juan David Castro\",\"flag\":\"https://static.platzi.com/media/flags/CO.png\",\"text\":\"Con Platzi entendí que la programación se convierte en parte de tu vida y con ella eres capaz de hacer cualquier cosa que te propongas. \",\"username\":\"juandc\",\"country\":\"Colombia\",\"socialName\":\"fjuandc\",\"date_joined\":\"2015-10-20 16:42:50+00:00\",\"image\":\"https://static.platzi.com/media/testimony/juandc1x1.jpg\"},{\"socialUrl\":\"https://facebook.com/10216266292906528\",\"profile\":\"/@Laurapregonero/\",\"name\":\"Laura Camila Pregonero\",\"flag\":\"https://static.platzi.com/media/flags/CO.png\",\"text\":\"Platzi es una de las mejores plataformas de estudio online, te ayuda a perfeccionar, mejorar y estar informado de las nuevas tendencias de tu carrera. Con todo lo que he aprendido he podido implementarlo en mi emprendimiento.\",\"username\":\"Laurapregonero\",\"country\":\"Colombia\",\"socialName\":\"Laurapregonero\",\"date_joined\":\"2018-04-13 21:27:42+00:00\",\"image\":\"https://static.platzi.com/media/testimony/AJ0A7239.jpg\"}],\"pinned_course\":{\"id\":1872,\"title\":\"Curso de Trabajo Remoto o Teletrabajo\",\"slug\":\"teletrabajo-trabajo-remoto\",\"color\":\"#472C09\",\"badge\":\"https://static.platzi.com/media/achievements/badges-categorias-negocios-emprendimiento-1-90ace212-529a-4741-8a55-6a56d0d48f0f-b3.png\",\"video\":\"_EhQ1Zrx9DI\",\"url\":\"https://platzi.com/clases/teletrabajo-trabajo-remoto/\",\"category\":{\"name\":\"Desarrollo e ingeniería\",\"color\":\"#33b13a\",\"url\":\"/categorias/desarrollo/\"}},\"has_subscription\":false,\"order_careers\":[],\"userType\":\"unlogged\",\"next_course\":{\"language_type\":\"native\",\"career_color\":\"#fdc001\",\"flag\":\"https://static.platzi.com/media/flags/CO.png\",\"liked\":false,\"career_url\":\"/learning-path/startups/\",\"url\":\"/cursos/inventarios/\",\"title\":\"Curso de Inventarios con Excel\",\"language_note\":\"\",\"launch_date\":\"2020-06-03T21:52:00+00:00\",\"likes\":0,\"description\":\"Para optimizar la producción de productos es necesario tener un control efectivo de un inventario. Conoce cómo mantener en sincronía la producción, transporte, \",\"career\":\"Creación de Startups\",\"course_id\":1919},\"steps\":[{\"title\":\"Más que videos\",\"subtitle\":\"Proyectos, desafíos, lecturas, clases en vivo\",\"description\":\"Tendrás un plan de aprendizaje personal. Cada curso te da un proyecto real, desafíos, lecturas, sesiones en vivo y clases a tu ritmo.\",\"img\":\"https://static.platzi.com/static/images/home-v3/step2.png\",\"color\":\"#fecc01\"},{\"title\":\"80% consiguen un mejor trabajo, 10% crean empresa\",\"subtitle\":\"Un mejor empleo o tu propia empresa\",\"description\":\"Un diploma de certificación que enviamos a tu casa, vivas donde vivas por cada carrera que completes, junto con proyectos para tu portafolio, todo incluido. Y un taller para crear tu startup.\",\"img\":\"https://static.platzi.com/static/images/home-v3/step3.png\",\"color\":\"#0791e6\"},{\"title\":\"No necesitas hardware especial para estudiar\",\"subtitle\":\"Estudia en laptop o teléfono, online u offline\",\"description\":\"Con la app móvil puedes descargar los cursos a tu teléfono. Platzi funciona sin instalar nada, en cualquier sistema y conexión a internet.\",\"img\":\"https://static.platzi.com/static/images/home-v3/step4.png\",\"color\":\"#ff7f38\"}],\"organization_id\":1,\"is_exclusive\":false,\"first_class\":[{\"title\":\"Curso de Diseño de Interfaces y UX 2017\",\"badge\":\"https://static.platzi.com/media/achievements/badge-diseno-interfaces-ux-f4591d4c-0fda-4e3b-bbbb-38bb0a61e724.png\",\"material_url\":\"/clases/1140-diseno-interfaces-ux-2017/7411-introduccion-a-ux/\"},{\"title\":\"Curso de Introducción al Marketing Digital\",\"badge\":\"https://static.platzi.com/media/achievements/1328-bdfaf9ae-05e1-44c3-9c14-fccbb491a7d3.png\",\"material_url\":\"/clases/1328-introduccion-marketing/12361-bienvenida-e-introduccion/\"},{\"title\":\"Curso Gratis de Programación Básica\",\"badge\":\"https://static.platzi.com/media/achievements/1050-bfb74f83-8e2e-4ff7-a66d-77d2c0067908.png\",\"material_url\":\"/clases/1050-programacion-basica/25972-recap-programacion-basica/\"},{\"title\":\"Fundamentos de Ingeniería de Software\",\"badge\":\"https://static.platzi.com/media/achievements/badge-ing-software-2017-18f503fd-36bd-42d8-b1a1-492865659687.png\",\"material_url\":\"/clases/1098-ingenieria/6548-como-funcionan-las-computadoras-y-los-telefonos-mo/\"}],\"plans\":{\"annual_plan\":{\"discount_active\":false,\"price_day\":\"3.261\",\"discount_data\":{},\"price\":\"99.167\",\"name\":\"annual_plan\",\"slug\":\"anual\",\"plan_price\":\"1.190.000\",\"copy\":\"En un solo pago de\",\"promo_active\":false,\"buy_url\":\"/comprar/expert/?course=todos\",\"discount_amount\":\"200.000\",\"symbol\":\"$\",\"title\":\"Platzi Expert\",\"promo_price\":\"990.000\",\"full_price\":\"1.190.000\",\"currency_code\":\"COP\",\"flag_url\":\"https://static.platzi.com/media/flags/CO.png\",\"description\":\"pesos\",\"save_money\":\"718.000\"},\"monthly_plan\":{\"discount_active\":false,\"price_day\":null,\"discount_data\":{},\"price\":\"159.000\",\"annual_price\":\"1.908.000\",\"price_month\":null,\"name\":\"monthly_plan\",\"plan_price\":\"159.000\",\"copy\":\"Pagas mes a mes\",\"promo_active\":false,\"buy_url\":\"/comprar/basic/?course=todos\",\"discount_amount\":\"\",\"symbol\":\"$\",\"title\":\"Platzi Basic\",\"promo_price\":\"159.000\",\"full_price\":\"1.908.000\",\"currency_code\":\"COP\",\"flag_url\":\"https://static.platzi.com/media/flags/CO.png\",\"description\":\"pesos\",\"save_money\":\"\"},\"course\":{\"discount_active\":false,\"has_discount\":true,\"price\":\"142.900\",\"name\":\"course\",\"slug\":\"bienvenido\",\"course_name\":\"\",\"plan_price\":\"279.000\",\"copy\":\"1 solo curso, 1 solo pago\",\"buy_url\":\"/cursos/\",\"discount_amount\":\"136.100\",\"symbol\":\"$\",\"title\":\"Un solo curso\",\"promo_price\":\"142.900\",\"flag_url\":\"https://static.platzi.com/media/flags/CO.png\",\"description\":\"pesos\"},\"features\":[{\"html\":\"Accedes a \\u003cstrong>\\u003cspan className=\\\"underline\\\">más\\u003c/span> de 700 cursos y 50 carreras\\u003c/strong>\",\"type\":\"notInSingleCourse\"},{\"html\":\"\\u003cspan className=\\\"is-exclusive\\\">10 cursos\\u003c/span> exclusivos\",\"type\":\"annualExclusive\",\"link\":true},{\"html\":\"Clases en vivo o a tu ritmo con profesores y mentores\",\"type\":\"notInSingleCourse\"},{\"html\":\"Estudia donde quieras en la web o en tu teléfono\",\"type\":\"all\"},{\"html\":\"Certificados digitales de los cursos que apruebas\",\"type\":\"all\"},{\"html\":\"Recibe los certificados de tus carreras, vivas donde vivas\",\"type\":\"annualExclusive\"},{\"html\":\"Acceso a las actualizaciones de todos los cursos\",\"type\":\"notInSingleCourse\"},{\"html\":\"Pago con tarjetas de crédito o débito\",\"type\":\"all\",\"images\":[\"https://static.platzi.com/static/images/pricing/visa.png\",\"https://static.platzi.com/static/images/pricing/mastercard.png\",\"https://static.platzi.com/static/images/pricing/american.png\"]},{\"html\":\"Pago en depósito, Paypal y otros métodos\",\"type\":\"annualExclusive\",\"images\":[\"https://static.platzi.com/static/images/pricing/paypal.png\",\"https://static.platzi.com/static/images/pricing/efectivo.png\"]},{\"html\":\"Entrada exclusiva al Taller de Creación de Startups\",\"type\":\"annualExclusive\"},{\"html\":\"Entrada preferencial a PlatziConf en todo el mundo\",\"type\":\"annualExclusive\"},{\"html\":\"Descarga los cursos offline con la app de iOS o Android\",\"type\":\"annualExclusive\"}],\"messages\":{\"pricing.course.choose\":\"Elegiste\",\"pricing.planCta.choose\":\"Elige tu curso\",\"pricing.exclusives.title\":\"Cursos exclusivos de Platzi Expert\",\"pricing.promo.returning\":\"\\u003ch2>La educación profesional \\u003cstrong>no necesita descuentos\\u003c/strong> cuando sabes invertir en ti. \\u003cp>Como ya tienes suscripción, \\u003cstrong>agregaremos un año más a tu suscripción\\u003c/strong> y no pierdes si eliges Expert hoy.\\u003c/p>\\u003c/h2>\",\"pricing.currentPlan.choose\":\"Elige tu curso\",\"PlanColumn_subtitle_promo_mensual\":\"Pagas mes a mes\",\"pricing.column.save\":\"En un Solo pago\",\"pricing.course.title\":\"Solo este curso\",\"pricing.benefits.title\":\"Qué obtienes\",\"pricing.promo.new.vzla\":\"\\u003ch2>La educación profesional \\u003cstrong>cambia tu vida\\u003c/strong> y abre el marcado del planeta entero. \\u003cp>En tu país sabemos que es un esfuerzo GIGANTE. Mira la \\u003ca target='_blank' href='https://www.youtube.com/watch?v=J0eazs705eA'>historia de JJ Yepez\\u003c/a>. Se puede. Sé Platzi Expert.\\u003c/p>\\u003c/h2>\",\"pricing.promo.title\":\"\\u003ch2>Elige un plan y empieza a estudiar\\u003c/h2>\",\"pricing.currentPlan.buy\":\"Comprar curso\",\"pricing.planCta.buyCourse\":\"Comprar curso\",\"pricing.planCta.buy\":\"Comprar Plan\",\"pricing.promo.new\":\"\\u003ch2>La educación profesional \\u003cstrong>no necesita descuentos\\u003c/strong> cuando sabes invertir en ti. \\u003cp>Estudiar en Platzi \\u003cstrong>duplica tus ingresos\\u003c/strong>. No detengas tu crecimiento por centavos. Sé Platzi Expert hoy.\\u003c/p>\\u003c/h2>\",\"pricing.column.recomended\":\"Recomendado\",\"PlanColumn_subtitle_promo_anual\":\"Un solo pago al año\",\"pricing.currentPlan.expert\":\"Elegir Expert\",\"pricing.company.title\":\"¿Necesitas capacitación para tu empresa? Tenemos planes especiales. Conócelos en \\u003ca href='https://platzi.com/empresas/' target='_blank'>platzi.com/empresas\\u003c/a>\"},\"locale\":\"es\"},\"course_count\":700,\"next_courses\":[{\"has_course\":false,\"content_type\":\"video\",\"language_type\":\"native\",\"color\":\"#fdc001\",\"badge\":\"https://static.platzi.com/media/achievements/badge-inventarios-excel-70f48da4-7757-489b-99c4-892774fdcbe3.png\",\"cover_url\":\"\",\"social_description\":\"\",\"bought\":false,\"is_new\":false,\"slug\":\"inventarios\",\"free\":false,\"cover_vertical_url\":\"\",\"lang\":\"es\",\"order\":0,\"url\":\"/clases/inventarios/\",\"teachers\":[{\"name\":\"Bernardo Martinez Romero\",\"image\":\"https://static.platzi.com/media/teachers/BernardoMartinez.jpg\",\"twitter\":\"\",\"company\":\"Comercializadora MARO\",\"position\":\"Supply Chain Manager\"}],\"is_required\":false,\"buy_url\":\"/adquirir/inventarios/curso/\",\"title\":\"Curso de Inventarios con Excel\",\"language_note\":\"\",\"social_image_url\":\"https://static.platzi.com/media/courses/Opengraph-inventarios-excel.png\",\"launch_date\":\"2020-06-03T16:52:00-05:00\",\"type\":\"paid\",\"video\":null,\"id\":1919,\"image\":\"https://static.platzi.com/media/achievements/platzi-bd.png\",\"live_url\":\"/clases/inventarios//live\",\"description\":\"Para optimizar la producción de productos es necesario tener un control efectivo de un inventario. Conoce cómo mantener en sincronía la producción, transporte, logística y costos de un inventario para obtener el mejor rendimiento de tu empresa. Implementa el modelo de inventario que más se ajuste a las características de producción de tu empresa.\"},{\"has_course\":false,\"content_type\":\"video\",\"language_type\":\"native\",\"color\":\"#012900\",\"badge\":\"https://static.platzi.com/media/achievements/badge-testing-vuejs-d23368ed-641e-43f4-afce-32e86e05211e.png\",\"cover_url\":\"\",\"social_description\":\"\",\"bought\":false,\"is_new\":false,\"slug\":\"testing-vuejs\",\"free\":false,\"cover_vertical_url\":\"\",\"lang\":\"es\",\"order\":0,\"url\":\"/clases/testing-vuejs/\",\"teachers\":[{\"name\":\"Joshua Pedraza\",\"image\":\"https://static.platzi.com/media/teachers/Joshua_Pedraza.jpg\",\"twitter\":\"Joshuapcruz\",\"company\":\"Platzi Master\",\"position\":\"Mentor\"}],\"is_required\":false,\"buy_url\":\"/adquirir/testing-vuejs/curso/\",\"title\":\"Curso de Testing con Vue.js\",\"language_note\":\"\",\"social_image_url\":\"https://static.platzi.com/media/courses/OG-testing-vuejs.png\",\"launch_date\":\"2020-06-04T16:56:00-05:00\",\"type\":\"paid\",\"video\":null,\"id\":1950,\"image\":\"https://static.platzi.com/media/achievements/platzi-bd.png\",\"live_url\":\"/clases/testing-vuejs//live\",\"description\":\"Aprende a utilizar pruebas unitarias y de integración en un proyecto web con Vue Test Util y Jest. Eleva la calidad de código de tu proyecto utilizando mejores prácticas de desarrollo con el Curso de Testing con Vue.js de Platzi.\"},{\"has_course\":false,\"content_type\":\"video\",\"language_type\":\"native\",\"color\":\"#23a311\",\"badge\":\"https://static.platzi.com/media/achievements/badge-fundamentos-web-scraping-python-1578d3cc-5f38-4c53-981e-7f4ba3f4b801.png\",\"cover_url\":\"\",\"social_description\":\"Aprender las bases de la extracción de datos en Internet y descubre cómo funciona una aplicación de Web Scraping internamente.  Desarrolla scripts a través de herramientas como Python y las DevTools del navegador y consigue tu siguiente trabajo en cualquier empresa de tecnología.\",\"bought\":false,\"is_new\":false,\"slug\":\"web-scraping\",\"free\":false,\"cover_vertical_url\":\"\",\"lang\":\"es\",\"order\":0,\"url\":\"/clases/web-scraping/\",\"teachers\":[{\"name\":\"Facundo García Martoni\",\"image\":\"https://static.platzi.com/media/teachers/el_facu.png\",\"twitter\":\"@facmartoni\",\"company\":\"Platzi\",\"position\":\"Technical Mentor\"}],\"is_required\":false,\"buy_url\":\"/adquirir/web-scraping/curso/\",\"title\":\"Curso de Fundamentos de Web Scraping con Python\",\"language_note\":\"\",\"social_image_url\":\"https://static.platzi.com/media/courses/OG-fundamentos-web-scraping-python.png\",\"launch_date\":\"2020-06-05T16:00:00-05:00\",\"type\":\"paid\",\"video\":null,\"id\":1908,\"image\":\"https://static.platzi.com/media/achievements/platzi-bd.png\",\"live_url\":\"/clases/web-scraping//live\",\"description\":\"Aprender las bases de la extracción de datos en Internet y descubre cómo funciona una aplicación de Web Scraping internamente.  Desarrolla scripts a través de herramientas como Python y las DevTools del navegador y consigue tu siguiente trabajo en cualquier empresa de tecnología.\"}],\"is_christmas\":false,\"expensivest_course\":{\"discount_active\":false,\"has_discount\":true,\"price\":\"142.900\",\"name\":\"course\",\"slug\":\"bienvenido\",\"course_name\":\"\",\"plan_price\":\"279.000\",\"copy\":\"1 solo curso, 1 solo pago\",\"buy_url\":\"/cursos/\",\"discount_amount\":\"136.100\",\"symbol\":\"$\",\"title\":\"Un solo curso\",\"promo_price\":\"142.900\",\"flag_url\":\"https://static.platzi.com/media/flags/CO.png\",\"description\":\"pesos\"},\"career_count\":50,\"lang\":\"es\",\"start_url\":\"/login/\",\"platform\":{\"title\":\"Platzi funciona\",\"steps\":[{\"title\":\"Logra tus metas:\",\"text\":\"No sólo videos: Clases concretas, descargables, prácticas y desde cualquier dispositivo.\",\"image\":\"https://static.platzi.com/static/images/home-v4/platform_goals.png\"},{\"title\":\"Examen de Certificación\",\"text\":\"Un diploma de certificación por curso y carrera. Tendrás proyectos reales para tu portafolio.\",\"image\":\"https://static.platzi.com/static/images/home-v4/platform_certificate.png\"},{\"title\":\"La mejor comunidad\",\"text\":\"Crearemos una ruta de aprendizaje personalizada y toda nuestra comunidad te acompañará.\",\"image\":\"https://static.platzi.com/static/images/home-v4/platform_community.png\"}]},\"country_name\":\"Colombia\",\"is_gdpr\":false,\"recent_courses\":[{\"has_course\":false,\"content_type\":\"video\",\"language_type\":\"native\",\"color\":\"#88d70b\",\"badge\":\"https://static.platzi.com/media/achievements/badge-configurar-eloquent-model-laravel-68179995-fe12-4709-a62e-9a03d1483a20.png\",\"cover_url\":\"\",\"social_description\":\"\",\"bought\":false,\"is_new\":false,\"slug\":\"eloquent-laravel\",\"free\":false,\"cover_vertical_url\":\"\",\"lang\":\"es\",\"order\":0,\"url\":\"/clases/eloquent-laravel/\",\"teachers\":[{\"name\":\"Ana Belisa Martínez\",\"image\":\"https://static.platzi.com/media/teachers/profile_-_Ana_Belisa_Martinez.jpg\",\"twitter\":\"anabelisam_\",\"company\":\"Platzi\",\"position\":\"Master Coach\"}],\"is_required\":false,\"buy_url\":\"/adquirir/eloquent-laravel/curso/\",\"title\":\"Curso de Manejo de Datos en Laravel con Eloquent ORM\",\"language_note\":\"\",\"social_image_url\":\"https://static.platzi.com/media/courses/Opengraph-Manejo-Datos-Laravel-Eloquent-ORM.png\",\"launch_date\":\"2020-06-02T15:36:00-05:00\",\"type\":\"paid\",\"video\":null,\"id\":1920,\"image\":\"https://static.platzi.com/media/achievements/platzi-bd.png\",\"live_url\":\"/clases/eloquent-laravel//live\",\"description\":\"Aprenderás a configurar modelos del  Object-relational mapping Eloquent en Laravel y podrás crear la base de un Dashboard de proyectos desarrollando una serie de retos que tendrás en el curso.\"},{\"has_course\":false,\"content_type\":\"video\",\"language_type\":\"native\",\"color\":\"#a35d07\",\"badge\":\"https://static.platzi.com/media/achievements/badge-microsoft-teams-6b719dc2-079f-4cba-ba24-4f8fdffab650.png\",\"cover_url\":\"\",\"social_description\":\"\",\"bought\":false,\"is_new\":false,\"slug\":\"microsoft-teams\",\"free\":false,\"cover_vertical_url\":\"\",\"lang\":\"es\",\"order\":0,\"url\":\"/clases/microsoft-teams/\",\"teachers\":[{\"name\":\"Daniel Sánchez\",\"image\":\"https://static.platzi.com/media/teachers/teachers/402-daniel-sanchez\",\"twitter\":\"danielowho\",\"company\":\"Platzi\",\"position\":\"Analista de Datos\"}],\"is_required\":false,\"buy_url\":\"/adquirir/microsoft-teams/curso/\",\"title\":\"Curso de Microsoft Teams\",\"language_note\":\"\",\"social_image_url\":\"https://static.platzi.com/media/courses/op-Microsoft-Teams.png\",\"launch_date\":\"2020-06-01T15:56:00-05:00\",\"type\":\"paid\",\"video\":null,\"id\":1905,\"image\":\"https://static.platzi.com/media/achievements/platzi-bd.png\",\"live_url\":\"/clases/microsoft-teams//live\",\"description\":\"Administra las operaciones de tu empresa desde un solo lugar con Microsoft Teams, la plataforma creada por Microsoft que optimiza el trabajo en equipo a través de chats grupales, conversaciones disponibles para todo el equipo, acceso integrado a SharePoint, Bloc de notas, IPages, Powerpoint y OneNote. Integra herramientas de terceros como RSS, Trello, GitHub y Asana y aprovecha la capacidad de personalización y el cifrado de datos en todo momento que Teams tiene para ti.\"},{\"has_course\":false,\"content_type\":\"video\",\"language_type\":\"native\",\"color\":\"#472c09\",\"badge\":\"https://static.platzi.com/media/achievements/badge-tecnologia-gerentes-directores-tecnicos-4a90110d-00c0-4379-a708-cce1111e5ff8.png\",\"cover_url\":\"\",\"social_description\":\"Hay dos tipos de empresas: Las que integran tecnología en su ADN y las que mueren. Aprende a gerenciar equipos de tecnología, comprar o crear software, contratar el talento correcto y hacer que te cumplan. Implementa estrategias de seguridad informática, infraestructura y manejo de datos hasta inteligencia artificial en tu modelo de negocio. Desde cero, sin conocimientos previos de tecnología.\",\"bought\":false,\"is_new\":false,\"slug\":\"tecnologia-gerentes\",\"free\":false,\"cover_vertical_url\":\"\",\"lang\":\"es\",\"order\":0,\"url\":\"/clases/tecnologia-gerentes/\",\"teachers\":[{\"name\":\"Freddy Vega\",\"image\":\"https://static.platzi.com/media/teachers/teachers/17-freddy-vega\",\"twitter\":\"freddier\",\"company\":\"Platzi\",\"position\":\"CEO\"}],\"is_required\":false,\"buy_url\":\"/adquirir/tecnologia-gerentes/curso/\",\"title\":\"Curso de Tecnología para Gerentes y Directores no Técnicos\",\"language_note\":\"\",\"social_image_url\":\"https://static.platzi.com/media/courses/OG-Tecnologia-gerentes-directores-tecnicos.png\",\"launch_date\":\"2020-05-29T18:00:00-05:00\",\"type\":\"paid\",\"video\":null,\"id\":1882,\"image\":\"https://static.platzi.com/media/achievements/platzi-bd.png\",\"live_url\":\"/clases/tecnologia-gerentes//live\",\"description\":\"Hay dos tipos de empresas: Las que integran tecnología en su ADN y las que mueren. Aprende a gerenciar equipos de tecnología, comprar o crear software, contratar el talento correcto y hacer que te cumplan. Implementa estrategias de seguridad informática, infraestructura y manejo de datos hasta inteligencia artificial en tu modelo de negocio. Desde cero, sin conocimientos previos de tecnología.\"},{\"has_course\":false,\"content_type\":\"video\",\"language_type\":\"native\",\"color\":\"#a35d07\",\"badge\":\"https://static.platzi.com/media/achievements/badge-estrategia-trading-r-9e11434a-a4c9-4855-8b27-cf262562142f.png\",\"cover_url\":\"\",\"social_description\":\"Aprende a utilizar R como herramienta de análisis para la inversión. Implementa los conocimientos básicos de R y trading en el análisis de información financiera. Conoce y define perfiles de inversionistas. Administra y optimiza un portafolio de inversión y toma decisiones financieras a partir del estudio de datos y del uso del lenguaje de programación estadístico ¡Entra ahora!\",\"bought\":false,\"is_new\":false,\"slug\":\"trading-r\",\"free\":false,\"cover_vertical_url\":\"\",\"lang\":\"es\",\"order\":0,\"url\":\"/clases/trading-r/\",\"teachers\":[{\"name\":\"Sonia Ardila\",\"image\":\"https://static.platzi.com/media/teachers/teachers/323-sonia-ardila\",\"twitter\":\"soniaardila1\",\"company\":\"digitai\",\"position\":\"Gestora de transformación digital\"}],\"is_required\":false,\"buy_url\":\"/adquirir/trading-r/curso/\",\"title\":\"Curso de Trading Financiero con R\",\"language_note\":\"\",\"social_image_url\":\"https://static.platzi.com/media/courses/OG-Trading-Financiero-R.png\",\"launch_date\":\"2020-05-29T16:00:00-05:00\",\"type\":\"paid\",\"video\":null,\"id\":1878,\"image\":\"https://static.platzi.com/media/achievements/platzi-bd.png\",\"live_url\":\"/clases/trading-r//live\",\"description\":\"Aprende a utilizar R como herramienta de análisis para la inversión. Implementa los conocimientos básicos de R y trading en el análisis de información financiera. Conoce y define perfiles de inversionistas. Administra y optimiza un portafolio de inversión y toma decisiones financieras a partir del estudio de datos y del uso del lenguaje de programación estadístico ¡Entra ahora!\"},{\"has_course\":false,\"content_type\":\"video\",\"language_type\":\"native\",\"color\":\"#21bdee\",\"badge\":\"https://static.platzi.com/media/achievements/badge-creacion-contenido-instagram-stories-fa4247a3-5362-462e-aefb-ccf597bdffcb.png\",\"cover_url\":\"\",\"social_description\":\"\",\"bought\":false,\"is_new\":false,\"slug\":\"ig-stories\",\"free\":false,\"cover_vertical_url\":\"\",\"lang\":\"es\",\"order\":0,\"url\":\"/clases/ig-stories/\",\"teachers\":[{\"name\":\"Cesar Fajardo\",\"image\":\"https://static.platzi.com/media/teachers/teachers/340-cesar-fajardo\",\"twitter\":\"fajardocesar\",\"company\":\"Platzi\",\"position\":\"Video Producer\"}],\"is_required\":false,\"buy_url\":\"/adquirir/ig-stories/curso/\",\"title\":\"Curso de Creación de Contenido en Instagram Stories\",\"language_note\":\"\",\"social_image_url\":\"https://static.platzi.com/media/courses/OG-Creacion-Contenido-Instagram-stories.png\",\"launch_date\":\"2020-05-28T16:48:00-05:00\",\"type\":\"paid\",\"video\":null,\"id\":1863,\"image\":\"https://static.platzi.com/media/achievements/platzi-bd.png\",\"live_url\":\"/clases/ig-stories//live\",\"description\":\"Las historias de Instagram pueden desaparecer en 24 horas, pero con este curso lograrás que el contenido se quede en la mente de tus usuarios y clientes por más tiempo.\"},{\"has_course\":false,\"content_type\":\"video\",\"language_type\":\"native\",\"color\":\"#472c09\",\"badge\":\"https://static.platzi.com/media/achievements/badge-logistica-startups-57b96ff4-ca44-4490-b438-caf2425fa265.png\",\"cover_url\":\"\",\"social_description\":\"Conocerás los fundamentos básicos de la logística, que te ayudaran a fidelizar y retener a tus clientes.  Aprenderás conceptos y estrategias, para que al implementarlos en tu modelo de negocio, logres que tu producto este en el lugar indicado, a la hora precisa y sobre todo con un costo razonable.\",\"bought\":false,\"is_new\":false,\"slug\":\"logistica-startups\",\"free\":false,\"cover_vertical_url\":\"\",\"lang\":\"es\",\"order\":0,\"url\":\"/clases/logistica-startups/\",\"teachers\":[{\"name\":\"Julian Caviedes\",\"image\":\"https://static.platzi.com/media/teachers/JC_Quick.jpeg\",\"twitter\":\"\",\"company\":\"Quick\",\"position\":\"CEO\"}],\"is_required\":false,\"buy_url\":\"/adquirir/logistica-startups/curso/\",\"title\":\"Curso de Logística para Startups\",\"language_note\":\"\",\"social_image_url\":\"https://static.platzi.com/media/courses/Opengraph-Logistica-startups.png\",\"launch_date\":\"2020-05-27T17:00:00-05:00\",\"type\":\"paid\",\"video\":\"iskJK8LnIrc\",\"id\":1897,\"image\":\"https://static.platzi.com/media/achievements/platzi-bd.png\",\"live_url\":\"/clases/logistica-startups//live\",\"description\":\"Conocerás los fundamentos básicos de la logística, que te ayudaran a fidelizar y retener a tus clientes.  Aprenderás conceptos y estrategias, para que al implementarlos en tu modelo de negocio, logres que tu producto este en el lugar indicado, a la hora precisa y sobre todo con un costo razonable.\"},{\"has_course\":false,\"content_type\":\"video\",\"language_type\":\"native\",\"color\":\"#a07099\",\"badge\":\"https://static.platzi.com/media/achievements/badges-introduccion-ux-writing-7db734df-de9b-447d-b7e4-c00b636ac721.png\",\"cover_url\":\"\",\"social_description\":\"\",\"bought\":false,\"is_new\":false,\"slug\":\"ux-writing\",\"free\":false,\"cover_vertical_url\":\"\",\"lang\":\"es\",\"order\":0,\"url\":\"/clases/ux-writing/\",\"teachers\":[{\"name\":\"Isis García\",\"image\":\"https://static.platzi.com/media/teachers/teachers/599-isis-garcia\",\"twitter\":\"@isisconvelo\",\"company\":\"Platzi\",\"position\":\"Course Director\"}],\"is_required\":false,\"buy_url\":\"/adquirir/ux-writing/curso/\",\"title\":\"Curso de Introducción a UX Writing\",\"language_note\":\"\",\"social_image_url\":\"https://static.platzi.com/media/courses/OG-Introduccion-ux-writing.png\",\"launch_date\":\"2020-05-26T16:36:00-05:00\",\"type\":\"paid\",\"video\":null,\"id\":1879,\"image\":\"https://static.platzi.com/media/achievements/platzi-bd.png\",\"live_url\":\"/clases/ux-writing//live\",\"description\":\"Al igual que un buen diseño, escribir mejores textos también mejora la experiencia del usuario. En este curso aprenderás a entender y adaptar las necesidades de cualquier producto, empresa o Startup para convertirlo en el mejor contenido posible para interfaces.\"},{\"has_course\":false,\"content_type\":\"video\",\"language_type\":\"native\",\"color\":\"#95c73f\",\"badge\":\"https://static.platzi.com/media/achievements/cooking-geeks-bagde-6f4f1ddc-4f6b-4351-b915-5dd9d006e1f8.png\",\"cover_url\":\"\",\"social_description\":\"\",\"bought\":false,\"is_new\":false,\"slug\":\"cooking-for-geeks\",\"free\":false,\"cover_vertical_url\":\"\",\"lang\":\"es\",\"order\":0,\"url\":\"/clases/cooking-for-geeks/\",\"teachers\":[{\"name\":\"Christian Van Der Henst\",\"image\":\"https://static.platzi.com/media/teachers/teachers/37-christian-van-der-henst\",\"twitter\":\"cvander\",\"company\":\"Platzi\",\"position\":\"COO\"}],\"is_required\":false,\"buy_url\":\"/adquirir/cooking-for-geeks/curso/\",\"title\":\"Curso de cocina para geeks\",\"language_note\":\"\",\"social_image_url\":\"https://static.platzi.com/media/courses/og-cooking-for-geeks.png\",\"launch_date\":\"2020-05-24T23:48:00-05:00\",\"type\":\"paid\",\"video\":null,\"id\":1948,\"image\":\"https://static.platzi.com/media/achievements/platzi-bd.png\",\"live_url\":\"/clases/cooking-for-geeks//live\",\"description\":\"No todo es código en Platzi. En Cooking for Geeks te compartimos recetas prácticas que puedes preparar en el hogar para ti y tus seres queridos. Ponte el delantal y aprende a cocinar de la mano del chef Christian Van Der Henst.\"},{\"has_course\":false,\"content_type\":\"video\",\"language_type\":\"native\",\"color\":\"#de5915\",\"badge\":\"https://static.platzi.com/media/achievements/badge-adobe-premiere-pro-26b1665d-4c55-4262-87bd-5a6a5bfa4edf.png\",\"cover_url\":\"\",\"social_description\":\"Domina los conceptos básicos de la edición y el montaje en Premiere Pro. Edita color y audio; crea títulos y textos; genera subtítulos y finaliza proyectos audiovisuales increíbles. Domina el mundo del montaje creativo y aprende todo lo que eres capaz de crear con el Curso de Adobe Premiere de Platzi.\",\"bought\":false,\"is_new\":false,\"slug\":\"adobe-premiere\",\"free\":false,\"cover_vertical_url\":\"\",\"lang\":\"es\",\"order\":0,\"url\":\"/clases/adobe-premiere/\",\"teachers\":[{\"name\":\"Lina María Arias\",\"image\":\"https://static.platzi.com/media/teachers/2003_premiere-2.jpg\",\"twitter\":\"\",\"company\":\"La Par Creación S.A.S\",\"position\":\"CEO\"}],\"is_required\":false,\"buy_url\":\"/adquirir/adobe-premiere/curso/\",\"title\":\"Curso de Adobe Premiere Pro\",\"language_note\":\"\",\"social_image_url\":\"https://static.platzi.com/media/courses/OG-Adobe-Premiere-Pro.png\",\"launch_date\":\"2020-05-22T16:00:00-05:00\",\"type\":\"paid\",\"video\":null,\"id\":1886,\"image\":\"https://static.platzi.com/media/achievements/platzi-bd.png\",\"live_url\":\"/clases/adobe-premiere//live\",\"description\":\"Domina los conceptos básicos de la edición y el montaje en Premiere Pro. Edita color y audio; crea títulos y textos; genera subtítulos y finaliza proyectos audiovisuales increíbles. Domina el mundo del montaje creativo y aprende todo lo que eres capaz de crear con el Curso de Adobe Premiere de Platzi.\"},{\"has_course\":false,\"content_type\":\"video\",\"language_type\":\"native\",\"color\":\"#3eb64a\",\"badge\":\"https://static.platzi.com/media/achievements/badge-norma-iso-27001-86ef8bd1-b94b-4708-be13-72043fff9599.png\",\"cover_url\":\"\",\"social_description\":\"\",\"bought\":false,\"is_new\":false,\"slug\":\"iso\",\"free\":false,\"cover_vertical_url\":\"\",\"lang\":\"es\",\"order\":0,\"url\":\"/clases/iso/\",\"teachers\":[{\"name\":\"Alex Tovar\",\"image\":\"https://static.platzi.com/media/teachers/AlexTovarProfile.jpg\",\"twitter\":\"alextovarg\",\"company\":\"Fundación Santafé\",\"position\":\"Auditor de Sistemas\"}],\"is_required\":false,\"buy_url\":\"/adquirir/iso/curso/\",\"title\":\"Curso de Preparación para la Certificación en la Norma ISO 27001\",\"language_note\":\"\",\"social_image_url\":\"https://static.platzi.com/media/courses/OG-Norma-ISO-27001-.png\",\"launch_date\":\"2020-05-21T17:56:00-05:00\",\"type\":\"paid\",\"video\":null,\"id\":1889,\"image\":\"https://static.platzi.com/media/achievements/platzi-bd.png\",\"live_url\":\"/clases/iso//live\",\"description\":\"La norma ISO 27001 es un estándar enfocado en la seguridad de la información de una organización. Conocer e implementar esta norma reducirá los riesgos a la información de una empresa y también a plantear escenarios que permitan dar continuidad del negocio. Esta norma es un pilar para fortalecer la transformación digital de una compañía. Prepárate para presentar un examen de certificación de la norma ISO 27001 en este curso.\"},{\"has_course\":false,\"content_type\":\"video\",\"language_type\":\"native\",\"color\":\"#00b6d4\",\"badge\":\"https://static.platzi.com/media/achievements/badge-google-tag-manager-f29bd878-1629-4c1f-be2d-43253ff1587b.png\",\"cover_url\":\"\",\"social_description\":\"\",\"bought\":false,\"is_new\":false,\"slug\":\"gtm\",\"free\":false,\"cover_vertical_url\":\"\",\"lang\":\"es\",\"order\":0,\"url\":\"/clases/gtm/\",\"teachers\":[{\"name\":\"Daniela Belén González\",\"image\":\"https://static.platzi.com/media/teachers/teachers/276-daniela-belen-gonzalez\",\"twitter\":\"myrockandmyroll\",\"company\":\"DigitalTie\",\"position\":\"Co-Founder\"}],\"is_required\":false,\"buy_url\":\"/adquirir/gtm/curso/\",\"title\":\"Curso de Introducción a Google Tag Manager 📃\",\"language_note\":\"\",\"social_image_url\":\"https://static.platzi.com/media/courses/Opengraph-google-tag-manager.png\",\"launch_date\":\"2020-05-20T13:56:00-05:00\",\"type\":\"paid\",\"video\":\"vIJ1hMKBIkk\",\"id\":1916,\"image\":\"https://static.platzi.com/media/achievements/platzi-bd.png\",\"live_url\":\"/clases/gtm//live\",\"description\":\"Gestiona etiquetas de forma simple y gratuita sin necesidad de editar código. Aprende cómo se comportan los usuarios en tus sitios web y en tus aplicaciones. Automatiza procesos de trabajo en tus campañas de marketing. Analiza los datos de tu página web para verificar si tu estrategia de marketing es un éxito o define cómo mejorarla con Google Tag Manager.\\n\\nEste curso es de lectura 📃\"},{\"has_course\":false,\"content_type\":\"video\",\"language_type\":\"native\",\"color\":\"#436b0e\",\"badge\":\"https://static.platzi.com/media/achievements/badge-profesional-diseno-videojuegos-bedff70d-0cc1-4ac8-bd0d-7826c82d5511.png\",\"cover_url\":\"\",\"social_description\":\"Desarrolla videojuegos desde cero. Domina el proceso de creación, aprende a crear personajes y líneas narrativas memorables, crea un documento de diseño paso a paso. Imagina la dinámica de tu videojuego y crea tu propio juego de video de manera profesional.\",\"bought\":false,\"is_new\":false,\"slug\":\"profesional-diseno-videojuegos\",\"free\":false,\"cover_vertical_url\":\"\",\"lang\":\"es\",\"order\":0,\"url\":\"/clases/profesional-diseno-videojuegos/\",\"teachers\":[{\"name\":\"Juan Gabriel Gomila\",\"image\":\"https://static.platzi.com/media/teachers/teachers/309-juan-gabriel-gomila\",\"twitter\":\"Joan_By\",\"company\":\"Frogames\",\"position\":\"CEO\"}],\"is_required\":false,\"buy_url\":\"/adquirir/profesional-diseno-videojuegos/curso/\",\"title\":\"Curso Profesional de Diseño de Videojuegos\",\"language_note\":\"\",\"social_image_url\":\"https://static.platzi.com/media/courses/op-Profesional-Dise%C3%B1o-Videojuegos.png\",\"launch_date\":\"2020-05-19T18:00:00-05:00\",\"type\":\"paid\",\"video\":null,\"id\":1910,\"image\":\"https://static.platzi.com/media/achievements/platzi-bd.png\",\"live_url\":\"/clases/profesional-diseno-videojuegos//live\",\"description\":\"Desarrolla videojuegos desde cero. Domina el proceso de creación, aprende a crear personajes y líneas narrativas memorables, crea un documento de diseño paso a paso. Imagina la dinámica de tu videojuego y crea tu propio juego de video de manera profesional.\"},{\"has_course\":false,\"content_type\":\"video\",\"language_type\":\"native\",\"color\":\"#fd7d7a\",\"badge\":\"https://static.platzi.com/media/achievements/badges-motivacion-equipos-trabajo-8e806ee9-6a23-417e-9eb3-f626a5f1f30e.png\",\"cover_url\":\"\",\"social_description\":\"Forma equipos de trabajo que sigan los objetivos de la empresa y se conviertan en equipos de alto rendimiento. Motiva a tu equipo a partir de valores propios. Aprende a implementar dinámicas de motivación, técnicas de feedback, planes de recompensa y tener una comunicación persuasiva. Traza el perfil deseado y recluta a las personas adecuadas para tu equipo.  | 2020 | Camila Barajas Salej\",\"bought\":false,\"is_new\":false,\"slug\":\"motivacion\",\"free\":false,\"cover_vertical_url\":\"\",\"lang\":\"es\",\"order\":0,\"url\":\"/clases/motivacion/\",\"teachers\":[{\"name\":\"Camila Barajas Salej\",\"image\":\"https://static.platzi.com/media/teachers/teachers/502-camila-barajas-salej\",\"twitter\":\"cbsalej\",\"company\":\"Platzi\",\"position\":\"Course Direction Coordinator\"}],\"is_required\":false,\"buy_url\":\"/adquirir/motivacion/curso/\",\"title\":\"Curso de Motivación para Equipos de Trabajo\",\"language_note\":\"\",\"social_image_url\":\"https://static.platzi.com/media/courses/og-motivacion-equipos-trabajo.png\",\"launch_date\":\"2020-05-18T16:00:00-05:00\",\"type\":\"paid\",\"video\":\"HGhPq_Uro0E\",\"id\":1896,\"image\":\"https://static.platzi.com/media/achievements/platzi-bd.png\",\"live_url\":\"/clases/motivacion//live\",\"description\":\"Forma equipos de trabajo que sigan los objetivos de la empresa y se conviertan en equipos de alto rendimiento. Motiva a tu equipo a partir de valores propios. Aprende a implementar dinámicas de motivación, técnicas de feedback, planes de recompensa y tener una comunicación persuasiva. Traza el perfil deseado y recluta a las personas adecuadas para tu equipo.\"},{\"has_course\":false,\"content_type\":\"video\",\"language_type\":\"native\",\"color\":\"#21bdee\",\"badge\":\"https://static.platzi.com/media/achievements/badge-estrategia-contenido-instagram-375bb6a2-ac4a-413d-8c68-4a76c0daec2d.png\",\"cover_url\":\"\",\"social_description\":\"Instagram es mucho más que fotos. Aprovecha todas las ventajas que te ofrece para crear una estrategia de contenido que te diferencie del resto y haz crecer tu marca personal o la de tu negocio.\",\"bought\":false,\"is_new\":false,\"slug\":\"estrategia-instagram\",\"free\":false,\"cover_vertical_url\":\"\",\"lang\":\"es\",\"order\":0,\"url\":\"/clases/estrategia-instagram/\",\"teachers\":[{\"name\":\"Cesar Fajardo\",\"image\":\"https://static.platzi.com/media/teachers/teachers/340-cesar-fajardo\",\"twitter\":\"fajardocesar\",\"company\":\"Platzi\",\"position\":\"Video Producer\"}],\"is_required\":false,\"buy_url\":\"/adquirir/estrategia-instagram/curso/\",\"title\":\"Curso de Estrategia de Contenido para Instagram\",\"language_note\":\"\",\"social_image_url\":\"https://static.platzi.com/media/courses/OG-Estrategia-Contenido-Instagram.png\",\"launch_date\":\"2020-05-15T17:00:00-05:00\",\"type\":\"paid\",\"video\":null,\"id\":1891,\"image\":\"https://static.platzi.com/media/achievements/platzi-bd.png\",\"live_url\":\"/clases/estrategia-instagram//live\",\"description\":\"Instagram es mucho más que fotos. Aprovecha todas las ventajas que te ofrece para crear una estrategia de contenido que te diferencie del resto y haz crecer tu marca personal o la de tu negocio.\"},{\"has_course\":false,\"content_type\":\"video\",\"language_type\":\"native\",\"color\":\"#472C09\",\"badge\":\"https://static.platzi.com/media/achievements/badge-videoconferencias-zoom-4c9edc54-9818-45fa-a19b-5d2eed6702f9.png\",\"cover_url\":\"\",\"social_description\":\"¿Estás trabajando en remoto o quieres dar talleres y clases en línea? ¡Utiliza las videoconferencias con Zoom para lograrlo! Este sistema de reuniones virtuales te permite conectarte con tu comunidad.  Aprende cómo mejorar la experiencia en remoto y haz que tus ideas lleguen a cualquier parte del mundo.\",\"bought\":false,\"is_new\":false,\"slug\":\"zoom\",\"free\":false,\"cover_vertical_url\":\"\",\"lang\":\"es\",\"order\":0,\"url\":\"/clases/zoom/\",\"teachers\":[{\"name\":\"Ludwin Cuevas\",\"image\":\"https://static.platzi.com/media/teachers/teachers/123-ludwin-cuevas\",\"twitter\":\"winiberto\",\"company\":\"Platzi\",\"position\":\"Production Lead\"}],\"is_required\":false,\"buy_url\":\"/adquirir/zoom/curso/\",\"title\":\"Curso de Videoconferencias con Zoom\",\"language_note\":\"\",\"social_image_url\":\"https://static.platzi.com/media/courses/OG-videoconferencias-zoom.png\",\"launch_date\":\"2020-05-14T14:00:00-05:00\",\"type\":\"paid\",\"video\":null,\"id\":1903,\"image\":\"https://static.platzi.com/media/achievements/platzi-bd.png\",\"live_url\":\"/clases/zoom//live\",\"description\":\"¿Estás trabajando en remoto o quieres dar talleres y clases en línea? ¡Utiliza las videoconferencias con Zoom para lograrlo! Este sistema de reuniones virtuales te permite conectarte con tu comunidad.  Aprende cómo mejorar la experiencia en remoto y haz que tus ideas lleguen a cualquier parte del mundo.\"}],\"careers\":[],\"can_buy\":true,\"exclusive_courses\":[{\"color\":\"#fdc001\",\"url\":\"/cursos/taller-startups/\",\"title\":\"Taller de creación de Startups\",\"badge_url\":\"https://static.platzi.com/media/achievements/badge-taller-creacion-startups-f72974de-ce1e-4767-bd47-988ed8f3369a.png\"},{\"color\":\"#fdc001\",\"url\":\"/cursos/creacion-de-empresas/\",\"title\":\"Introducción a la Creación de Empresas y Startups\",\"badge_url\":\"https://static.platzi.com/media/achievements/1186-0cbf6899-eeb8-4b9e-9bf9-a55a004e4307.png\"},{\"color\":\"#ffe600\",\"url\":\"/cursos/ingles/\",\"title\":\"Curso de Inglés Técnico para Profesionales\",\"badge_url\":\"https://static.platzi.com/media/achievements/1188-ea5968c2-aedf-436c-bd94-9141a594770f.png\"},{\"color\":\"#fdc001\",\"url\":\"/cursos/financiera-startups-2017/\",\"title\":\"Curso de Gestión Financiera para Startups - 2017\",\"badge_url\":\"https://static.platzi.com/media/achievements/badge-financiera-bac2ce86-e4f5-41fe-83da-708ecb16e79a.png\"},{\"color\":\"#95c73f\",\"url\":\"/cursos/developer/\",\"title\":\"Cómo Conseguir Trabajo en Programación\",\"badge_url\":\"https://static.platzi.com/media/achievements/1227-863956bd-65fd-4ca3-b2de-51d8e67786ca.png\"},{\"color\":\"#fdc001\",\"url\":\"/cursos/internacionalizacion-startups/\",\"title\":\"Curso de Internacionalización para Startups\",\"badge_url\":\"https://static.platzi.com/media/achievements/1266-0dbaeb6d-379d-4e62-add3-902e718bc95e.png\"},{\"color\":\"#e32020\",\"url\":\"/cursos/ingles-basico/\",\"title\":\"Curso de Inglés Básico: Fundamentos\",\"badge_url\":\"https://static.platzi.com/media/achievements/badge-basico-ingles-e073f711-763d-4129-badc-5e4baa78b225.png\"},{\"color\":\"#e32020\",\"url\":\"/cursos/ingles-gramatica/\",\"title\":\"Curso de Inglés Básico: Gramática\",\"badge_url\":\"https://static.platzi.com/media/achievements/1370-836f01ea-6748-4c9f-a8e0-ce51c7c28d0b.png\"},{\"color\":\"#e32020\",\"url\":\"/cursos/ingles-conversacion/\",\"title\":\"Curso de Inglés Básico: Conversación\",\"badge_url\":\"https://static.platzi.com/media/achievements/1371-db5ea3c7-4ac9-4b61-b786-9346ebb3fc7f.png\"},{\"color\":\"#98ca3f\",\"url\":\"/cursos/trading-basico/\",\"title\":\"Curso de Introducción al Trading\",\"badge_url\":\"https://static.platzi.com/media/achievements/1403-5739eea5-5dc1-46d8-bc02-0df8c54d4b54.png\"}],\"courses\":[],\"is_cifes\":false,\"order_plans\":[\"annual_plan\",\"monthly_plan\"],\"is_authenticated\":false,\"all_courses\":true,\"hero\":{\"title\":\"La escuela online de formación profesional en tecnología\",\"copy\":[{\"percentage\":70,\"text\":\"de los graduados de Platzi \\u003cbr/> duplican sus ingresos\"},{\"percentage\":20,\"text\":\"crean su propia empresa \\u003cbr/> de tecnología o startup\"}],\"cta\":\"Regístrate a un curso nuevo\",\"cta2\":\"Comienza ahora\",\"firstClass\":\"Toma tu primera clase\",\"image\":\"https://static.platzi.com/static/images/home-v4/hero_person_md.png\",\"image_2\":\"https://static.platzi.com/static/images/home-v4/hero_person.png\"},\"search_bar\":true,\"categories\":[{\"title\":\"Desarrollo e ingeniería\",\"url\":\"/categorias/desarrollo/\",\"head\":\"https://static.platzi.com/static/images/christmas/christmas-2018/desarrollo.jpg\",\"courses\":415,\"id\":5,\"color\":\"#33b13a\",\"slug\":\"desarrollo\"},{\"title\":\"Diseño y UX\",\"url\":\"/categorias/diseno/\",\"head\":\"https://static.platzi.com/static/images/christmas/christmas-2018/design.jpg\",\"courses\":77,\"id\":6,\"color\":\"#6b407e\",\"slug\":\"diseno\"},{\"title\":\"Marketing\",\"url\":\"/categorias/marketing/\",\"head\":\"https://static.platzi.com/static/images/christmas/christmas-2018/marketing.jpg\",\"courses\":72,\"id\":7,\"color\":\"#29b8e8\",\"slug\":\"marketing\"},{\"title\":\"Negocios y emprendimiento\",\"url\":\"/categorias/negocios/\",\"head\":\"https://static.platzi.com/static/images/christmas/christmas-2018/negocios.jpg\",\"courses\":53,\"id\":8,\"color\":\"#f5c443\",\"slug\":\"negocios\"},{\"title\":\"Producción Audiovisual\",\"url\":\"/categorias/produccion-audiovisual/\",\"head\":\"https://static.platzi.com/static/images/christmas/christmas-2018/audiovisual.jpg\",\"courses\":23,\"id\":10,\"color\":\"#fa7800\",\"slug\":\"produccion-audiovisual\"},{\"title\":\"Crecimiento Profesional\",\"url\":\"/categorias/crecimiento-profesional/\",\"head\":\"https://static.platzi.com/static/images/christmas/christmas-2018/crecimiento.jpg\",\"courses\":48,\"id\":11,\"color\":\"#cb161d\",\"slug\":\"crecimiento-profesional\"}],\"i18n\":{\"FirstClass_title\":\"Toma tu primera clase\",\"login.fb\":\"Ingresa con facebook\",\"LaunchDate\":\"Lanzamiento: \",\"login.email.title\":\"Con tu Email\",\"HeroPlansDetail\":\"Con planes para \\u003ca href=\\\"/precios/\\\">personas\\u003c/a> o \\u003ca href=\\\"/empresas/\\\">empresas\\u003c/a>\",\"ResultsTitle\":\"Para más resultados oprime ENTER\",\"courses.title\":\"Nuestros cursos\",\"admin.add\":\"Crear un nuevo curso\",\"contributions.filters.best\":\"Mejores\",\"contributions.filters.new\":\"Nuevos\",\"welcome\":\"Regístrate a Platzi\",\"StudyBannerTitle\":\"Clases en video, lecturas, proyectos colaborativos, desafíos, quizzes, ejercicios, en tu móvil o escritorio\",\"HomeTestimonials_copy_all\":\"Platzi es la estrategia de formación de miles de personas para conseguir un mejor empleo o crear una empresa de tecnología\",\"NextReleases_box_title\":\"Próximos lanzamientos\",\"contributions.item.comments\":\"{amount, plural, =0 {Sin comentarios} one {1 comentario} other {{amount} comentarios}}\",\"SuggestCourse-placeholder\":\"¿Qué quisieras aprender?\",\"HomeSearch-imput\":\"Busca entre los más de {cursos} cursos\",\"highlighted.empty.primary\":\"Comparte tus conocimientos sobre:\",\"highlighted.readMore\":\"Leer más...\",\"HomeTestimonials_link\":\"Conoce \\u003cstrong>todas las historias\\u003c/strong>\",\"careerList.popular\":\"Populares\",\"continue\":\"Continúa\",\"careerList.more\":\"Más carreras\",\"terms\":\"Términos de Uso\",\"MeetOurBlog\":\"Conoce nuestro Blog\",\"CareersSectionSubtitle\":\"Al suscribirte, personalizamos tu ruta de aprendizaje para que logres tus objetivos profesionales\",\"SubscribeSectionSuccess\":\"Te has suscrito a las noticias de Platzi\",\"outstanding.recommend\":\"Te recomendamos\",\"login.tw\":\"Ingresa con twitter\",\"privacy\":\"Políticas de privacidad\",\"CareersSectionTitle\":\"Tenemos más de {coursesRounded} cursos y {careersSize} carreras\",\"breadcrumb.tutorial\":\"Posts\",\"HeroLearn\":\"Aprende:\",\"CoursesList-message-text\":\"Si ya eres alumno puedes\",\"SuggestCourse-title\":\"No encontramos el curso que buscas.\",\"name\":\"Nombre\",\"HomeTestimonials_title\":\"Historias y testimonios\",\"agree\":\"Acepto los {terms} y {privacy} de Platzi\",\"Platform_title\":\"Platzi funciona\",\"StudyBannerSubtitle\":\"¿Qué te detiene a invertir en ti?\",\"contributions.title\":\"Posts\",\"highlighted.empty.button\":\"Más cursos\",\"form.title\":\"Regístrate a Platzi\",\"SuggestCourse-recommend\":\"Enviar\",\"NextCourse\":\"Próximo Curso\",\"CardCareer\":\"Carrera de\",\"careerList.all\":\"Todas\",\"RegisterSuscribe\":\"Suscríbete hoy\",\"contributions.filters.drafts\":\"Borradores\",\"login.password.forgot\":\"¿Olvidaste tu contraseña?\",\"HomeSearch-title\":\"¿En qué quieres especializarte?\",\"login.social\":\"Con tus redes sociales\",\"form.email\":\"Correo electrónico\",\"CoursesList-message-cta\":\"Ingresa al curso\",\"HeroCareersCount\":\"y {careersSize} carreras más\",\"startNow\":\"Comienza ahora\",\"RegisterTitle\":\"Aprende de expertos en programación, diseño, marketing, startups, video y web.\",\"form.name\":\"Nombre\",\"RecentCourses_title\":\"Nuevos cursos lanzados\",\"TestimoniesTitle\":\"Tu felicidad es nuestro éxito\",\"login.email\":\"Correo electrónico\",\"contributions.filters.top\":\"Más votados\",\"breadcrumb.start\":\"Inicio\",\"highlighted.empty.secondary\":\"¡Sé el primero en crear un post!\",\"Courses\":\"cursos\",\"Business_digital\":\"Capacitamos a tu empresa en transformación digital y las tecnologías más competitivas del mercado.\",\"Business_link\":\"\\u003cstrong>Inscribe tu empresa\\u003c/strong>\",\"course.material\":\"Materiales\",\"start_learning\":\"Comienza ahora\",\"StudyBannerCTA\":\"Comienza a estudiar\",\"HomeBusinessCta-title\":\"Conoce como \\u003cstrong>inscribir tu empresa\\u003c/strong>\",\"HomeCta-title\":\"La comunidad de estudiantes más grande de latinoamerica\",\"ogin.account\":\"¿Aún no tienes cuenta? \\u003ca href=\\\"/signup/?next={next}\\\" class=\\\"link\\\">Regístrate aquí\\u003c/a>\",\"form.button\":\"Comienza ahora\",\"email\":\"Correo electrónico\",\"SuggestCourse-title_2\":\"Cuéntanos qué curso o temática te gustaría que esté en nuestra plataforma y te notificaremos cuando esté disponible:\",\"mainTitle\":\"Regístrate a Platzi\"}}}</script>\n",
      "          <script id=\"initialProps\" >window.initialProps = {}</script>\n",
      "          <script id=\"translations\" >window.translations = {\"messages\":{\"contactus_title\":\"¿Tienes dudas o quieres comunicarte con nosotros?\",\"contactus_subtitle\":\"Elige el medio que más te convenga, te sugerimos \",\"write\":\"Escríbenos\",\"dm\":\"Mensaje Directo\",\"telephone\":\"Teléfono\",\"continue_watching\":\"Continua viendo\",\"all_courses\":\"Ver todos mis cursos\",\"username\":\"¡Hola, {{user_name}}!\",\"subscriptionTime\":\"Tienes {subscription_time} días de tu Plan\",\"view_profile\":\"Ver mi Perfil\",\"logout\":\"Cerrar sesión\",\"login\":\"Iniciar sesión\",\"live_in\":\"En Vivo\",\"live\":\"live\",\"menu\":\"Menú\",\"view_plans\":\"Quiero saber más\",\"view_plans2\":\"Quiero saber más\",\"courses\":\"Cursos\",\"more_results\":\"Más resultados\",\"header.search.learningPaths\":\"Ruta de aprendizaje\",\"no_results\":\"No tenemos resultados destacados\",\"avanced_search\":\"Presiona ENTER para una busqueda avanzada\",\"init_plan\":\"Iniciar mi plan\",\"init_plan2\":\"Planes\",\"switch_language\":\"Do you want to switch to Platzi in English?\",\"switch_english\":\"Yes, switch to English\",\"user_login\":\"Inicia sesión o crea tu cuenta\",\"nextPage\":\"Siguiente\",\"searchPlaceholder\":\"Buscar en Platzi\",\"login_live_text\":\"Participa en sesiones en vivo y foros de Platzi\",\"login_courses_text\":\"Accede a más de 120 cursos\",\"login_opportunities\":\"Accede a mejores oportunidades laborales\",\"mark_as_read\":\"Marcar todas como leídas\",\"title\":\"Tus notificaciones\",\"hide\":\"Ocultar\",\"hide_description\":\"Ocultar esta notificación del historial\",\"undo\":\"Deshacer\",\"notification_hidden\":\"Se ocultó la notificatión.\",\"notification_empty_title\":\"¡Aún no tienes notificaciones!\",\"notification_emtpy_subtitle\":\"Participa, comparte y discute para empezar a recibir notificaciones\",\"see_all\":\"Ver todas\",\"notifications_disabled_title\":\"¡Tus notificaciones están desactivadas!\",\"notification_not_available_title\":\"¡Lo sentimos!\",\"notifications_not_available_subtitle\":\"El contenido al que intentas acceder no se encuentra disponible.\",\"notifications_disabled_subtitle\":\"Para recibir nuevamente tus notificaciones debes activarlas en \\u003cspan class=\\\"icon-cog\\\">\\u003c/span>\",\"required_courses\":\"Cursos Obrigatórios\",\"awardsText\":\"Reconocidos y premiados por\",\"CertifiersText\":\"Certificadores oficiales en tecnologías\",\"fromLatam\":\"De LATAM con \",\"toTheWorld\":\"para el mundo\",\"FooterShareLink\":\"Comparte este link y por cada registro con esta URL te damos un mes\",\"FooterCopyLink\":\"ingrese un link\",\"qualityEducation\":\"Transformamos la economía de nuestros países entrenando a la próxima generación de profesionales en tecnología.\",\"FooterfollowUs\":\"Aprende en nuestras redes:\",\"FooterChangeLang\":\"Cambiar idioma\",\"SubscribeSectionTitle\":\"Entérate de todas las novedades en educación, negocios y tecnología\",\"SubscribeSectionCTA\":\"Suscríbete\",\"YourEmail\":\"Correo electrónico\",\"EnterYourEmail\":\"Ingresa tu correo electrónico\",\"LoginSocial-facebook-login\":\"Inicia sesión con Facebook\",\"LoginSocial-twitter-login\":\"Inicia sesión con Twitter\",\"login_email\":\"Tu email\",\"login_password\":\"Tu contraseña\",\"LoginWithEmail-login\":\"Inicia sesión\",\"LoginWithEmail-lostpassword\":\"¿Olvidaste tu contraseña?\",\"AccountFooter-title-register\":\"¿Aún no tienes cuenta en Platzi?\",\"AccountFooter-register\":\"Regístrate\",\"AccountFooter-login\":\"Inicia tu sesión\",\"AccountFooter-title-login \":\"¿Ya tienes una cuenta?\",\"RegisterButton-email\":\"Regístrate con tu Email\",\"LoginSocial-twitter-register\":\"Regístrate con Twitter\",\"LoginSocial-facebook-register\":\" Regístrate con Facebook\",\"planExpert\":\"Plan Expert\",\"planExpertText\":\"Desarrolla tus habilidades en programación, diseño, producción audiovisual, marketing y muchas más. Mide tu progreso y recibe certificados con tu nombre a finalizar cada curso.\",\"user_points\":\"{{points}} pts\",\"countdown_text\":\"Termina en: \",\"countdown_text_pre\":\"Comienza en: \",\"billing.title\":\"Ingresar datos de facturación\",\"billing.subtitle\":\"Información obligatoria unicamente para tus facturas. Resolución 30 de 2019 título II Artículo 2 (la siguiente información no podrá ser cambiada).\",\"billing.person\":\"Persona Natural\",\"billing.company\":\"Empresa\",\"billing.indentity\":\"Identificación\",\"billing.ubication\":\"Ubicación\",\"billing.person.name\":\"Nombre\",\"billing.person.surname\":\"Apellido\",\"billing.company.name\":\"Razón Social\",\"billing.id.name\":\"Número de documento\",\"billing.email\":\"Correo electrónico\",\"billing.id.type\":\"Tipo de documento\",\"billing.id.number\":\"Número de documento\",\"billing.state\":\"Estado / Departamento\",\"billing.city\":\"Ciudad\",\"billing.address\":\"Dirección\",\"billing.cta.save\":\"GUARDAR DATOS\",\"welcome\":\"Regístrate a Platzi\",\"name\":\"Nombre\",\"email\":\"Correo electrónico\",\"start_learning\":\"Comienza ahora\",\"mainTitle\":\"Regístrate a Platzi\",\"startNow\":\"Comienza ahora\",\"login.fb\":\"Ingresa con facebook\",\"login.social\":\"Con tus redes sociales\",\"login.tw\":\"Ingresa con twitter\",\"login.email.title\":\"Con tu Email\",\"login.email\":\"Correo electrónico\",\"login.password.forgot\":\"¿Olvidaste tu contraseña?\",\"ogin.account\":\"¿Aún no tienes cuenta? \\u003ca href=\\\"/signup/?next={{next}}\\\" class=\\\"link\\\">Regístrate aquí\\u003c/a>\",\"careerList.all\":\"Todas\",\"careerList.more\":\"Más carreras\",\"careerList.popular\":\"Populares\",\"breadcrumb.start\":\"Inicio\",\"breadcrumb.tutorial\":\"Posts\",\"highlighted.readMore\":\"Leer más...\",\"highlighted.empty.primary\":\"Comparte tus conocimientos sobre:\",\"highlighted.empty.secondary\":\"¡Sé el primero en crear un post!\",\"highlighted.empty.button\":\"Más cursos\",\"form.title\":\"Regístrate a Platzi\",\"form.name\":\"Nombre\",\"form.email\":\"Correo electrónico\",\"form.button\":\"Comienza ahora\",\"outstanding.recommend\":\"Te recomendamos\",\"contributions.title\":\"Posts\",\"contributions.filters.best\":\"Mejores\",\"contributions.filters.drafts\":\"Borradores\",\"contributions.filters.new\":\"Nuevos\",\"contributions.filters.top\":\"Más votados\",\"contributions.item.comments\":\"{amount, plural, =0 {Sin comentarios} one {1 comentario} other {{amount} comentarios}}\",\"agree\":\"Aquí puedes ver nuestros {{terms}} y actualizaciones de nuestras {{privacy}}\",\"terms\":\"Términos de Uso\",\"privacy\":\"políticas de privacidad\",\"courses.title\":\"Nuestros cursos\",\"admin.add\":\"Crear un nuevo curso\",\"course.material\":\"Materiales\",\"continue\":\"Continúa\",\"MeetOurBlog\":\"Conoce nuestro Blog\",\"StudyBannerTitle\":\"Clases en video, lecturas, proyectos colaborativos, desafíos, quizzes, ejercicios, en tu móvil o escritorio\",\"StudyBannerSubtitle\":\"¿Qué te detiene a invertir en ti?\",\"StudyBannerCTA\":\"Comienza a estudiar\",\"CareersSectionTitle\":\"Tenemos más de {{coursesRounded}} cursos y {{careersSize}} carreras\",\"CareersSectionSubtitle\":\"Al suscribirte, personalizamos tu ruta de aprendizaje para que logres tus objetivos profesionales\",\"HeroLearn\":\"Aprende:\",\"HeroCareersCount\":\"y {{careersSize}} carreras más\",\"HeroPlansDetail\":\"Con planes para \\u003ca href=\\\"/precios/\\\">personas\\u003c/a> o \\u003ca href=\\\"/empresas/\\\">empresas\\u003c/a>\",\"NextCourse\":\"Próximo Curso\",\"LaunchDate\":\"Lanzamiento: \",\"RegisterTitle\":\"Aprende de expertos en programación, diseño, marketing, startups, video y web.\",\"RegisterSuscribe\":\"Suscríbete hoy\",\"ResultsTitle\":\"Para más resultados oprime ENTER\",\"TestimoniesTitle\":\"Tu felicidad es nuestro éxito\",\"CardCareer\":\"Carrera de\",\"Courses\":\"cursos\",\"Business_digital\":\"Capacitamos a tu empresa en transformación digital y las tecnologías más competitivas del mercado.\",\"Business_link\":\"\\u003cstrong>Inscribe tu empresa\\u003c/strong>\",\"NextReleases_box_title\":\"Próximos lanzamientos\",\"HomeTestimonials_title\":\"Historias y testimonios\",\"HomeSearch-title\":\"¿En qué quieres especializarte?\",\"HomeSearch-imput\":\"Busca entre los más de {{cursos}} cursos\",\"Platform_title\":\"Platzi funciona\",\"HomeTestimonials_copy_all\":\"Platzi es la estrategia de formación de miles de personas para conseguir un mejor empleo o crear una empresa de tecnología\",\"HomeTestimonials_link\":\"Conoce \\u003cstrong>todas las historias\\u003c/strong>\",\"FirstClass_title\":\"Toma tu primera clase\",\"RecentCourses_title\":\"Nuevos cursos lanzados\",\"HomeCta-title\":\"La comunidad de estudiantes más grande de latinoamerica\",\"HomeBusinessCta-title\":\"Conoce como \\u003cstrong>inscribir tu empresa\\u003c/strong>\",\"SuggestCourse-title\":\"No encontramos el curso que buscas.\",\"SuggestCourse-title_2\":\"Cuéntanos qué curso o temática te gustaría que esté en nuestra plataforma y te notificaremos cuando esté disponible:\",\"SuggestCourse-placeholder\":\"¿Qué quisieras aprender?\",\"SuggestCourse-recommend\":\"Enviar\",\"CoursesList-message-text\":\"Si ya eres alumno puedes\",\"CoursesList-message-cta\":\"Ingresa al curso\",\"SubscribeSectionSuccess\":\"Te has suscrito a las noticias de Platzi\",\"HeroContent_title\":\"La escuela online de formación profesional en tecnología\",\"HeroContent-stats-70\":\"{{percentage}}\\u003ci>%\\u003c/i>\",\"HeroContent-stats-70copy\":\"de los graduados de Platzi \\u003cbr /> duplican sus ingresos\",\"HeroContent-stats-20\":\"{{percentage}}\\u003ci>%\\u003c/i>\",\"HeroContent-stats-20copy\":\"crean su propia empresa \\u003cbr /> de tecnología o startup\",\"HeroContent-action-subscribe\":\"Comienza ahora\",\"HeroContent-action-firstClass\":\"Toma tu primera clase\",\"HomeCta-btn\":\"Comienza ahora\",\"SearchResults_courses\":\"Cursos\",\"SearchResults_lp\":\"Rutas de aprendizaje\",\"acceptTerms\":\"Nunca pares de aprender sobre la seguridad de tus datos\",\"accept\":\"Términos de Uso\"},\"locale\":\"es-CO\"}</script>\n",
      "          <script async src=\"https://cdnjs.cloudflare.com/ajax/libs/lazysizes/5.2.0/lazysizes.min.js\" async></script>\n",
      "          <script async src=\"https://static.platzi.com/mf-landings/assets/home.561b1fbebddb91226165.js\" type=\"text/javascript\"></script>\n",
      "          <script async src=\"https://static.platzi.com/mf-landings/assets/vendor.a1ace2701b5cc466b3f3.js\" type=\"text/javascript\"></script>\n",
      "          <!-- Fuente Lato -->\n",
      "            <script type=\"text/javascript\">WebFontConfig={google:{families:['Lato:300,400,700:latin']}};(function(){var wf=document.createElement('script');wf.src=('https:'==document.location.protocol?'https':'http')+'://ajax.googleapis.com/ajax/libs/webfont/1/webfont.js';wf.type='text/javascript';wf.async='true';var s=document.getElementsByTagName('script')[0];s.parentNode.insertBefore(wf,s);})();</script>\n",
      "          <!-- End Fuente Lato -->\n",
      "          <script async type=\"application/ld+json\">\n",
      "            {\n",
      "                \"@context\": \"http://schema.org\",\n",
      "                \"@type\": \"Organization\",\n",
      "                \"name\": \"Platzi\",\n",
      "                \"url\": \"https://platzi.com/\",\n",
      "                \"description\": \"Aprende de expertos en programación, diseño, marketing, startups, video y web. Suscríbete hoy.\",\n",
      "                \"foundingDate\": \"2013-01-01\",\n",
      "                \"founders\": [\n",
      "                    {\n",
      "                        \"@type\": \"Person\",\n",
      "                        \"name\": \"John Freddy Vega\"\n",
      "                    },\n",
      "                    {\n",
      "                        \"@type\": \"Person\",\n",
      "                        \"name\": \"Christian Van Der Henst\"\n",
      "                    }\n",
      "                ],\n",
      "                \"sameAs\": [\n",
      "                    \"https://www.facebook.com/platzi/\",\n",
      "                    \"https://twitter.com/Platzi\",\n",
      "                    \"https://www.youtube.com/channel/UC55-mxUj5Nj3niXFReG44OQ\",\n",
      "                    \"https://www.linkedin.com/school/2822346\"\n",
      "                ]\n",
      "            }\n",
      "          </script>\n",
      "          <script>\n",
      "            window.ga('platziFull.send', 'event', 'Test-home', 'impression');\n",
      "          </script>\n",
      "          <!-- GTM Second Stage (noscript) -->\n",
      "          <noscript><iframe src=\"https://www.googletagmanager.com/ns.html?id=GTM-MPT6TFW\"\n",
      "          height=\"0\" width=\"0\" style=\"display:none;visibility:hidden\"></iframe></noscript>\n",
      "          <!-- GTM Second Stage (noscript) -->\n",
      "        </body>\n",
      "      </html >\n",
      "  \n"
     ]
    }
   ],
   "source": [
    "print(response.text)"
   ]
  },
  {
   "cell_type": "code",
   "execution_count": 63,
   "metadata": {},
   "outputs": [
    {
     "name": "stdout",
     "output_type": "stream",
     "text": [
      "🚀Platzi: ‎Cursos Online Profesionales de Tecnología\n"
     ]
    }
   ],
   "source": [
    "#Cresar querys con SOUP para explorar páginas\n",
    "#BS4 sirve para manipular HTMl XML \n",
    "import bs4\n",
    "soup=bs4.BeautifulSoup(response.text, 'html.parser')\n",
    "\n",
    "print(soup.title.text)"
   ]
  },
  {
   "cell_type": "code",
   "execution_count": 64,
   "metadata": {},
   "outputs": [
    {
     "name": "stdout",
     "output_type": "stream",
     "text": [
      "[<meta content=\"Aprende desde cero a crear el futuro web con nuestros Cursos Online Profesionales de Tecnología. 🚀¡Cursos de Desarrollo, Diseño, Marketing y Negocios!\" name=\"description\"/>]\n"
     ]
    }
   ],
   "source": [
    "print(soup.select('meta[name=description]'))"
   ]
  },
  {
   "cell_type": "code",
   "execution_count": 65,
   "metadata": {},
   "outputs": [
    {
     "name": "stdout",
     "output_type": "stream",
     "text": [
      "Aprende desde cero a crear el futuro web con nuestros Cursos Online Profesionales de Tecnología. 🚀¡Cursos de Desarrollo, Diseño, Marketing y Negocios!\n"
     ]
    }
   ],
   "source": [
    "print(soup.select('meta[name=description]')[0]['content'])"
   ]
  },
  {
   "cell_type": "code",
   "execution_count": 77,
   "metadata": {},
   "outputs": [
    {
     "name": "stdout",
     "output_type": "stream",
     "text": [
      "[<a href=\"/cursos/ux-writing\"></a>, <a href=\"/cursos/cooking-for-geeks\"></a>, <a href=\"/cursos/adobe-premiere\"></a>, <a href=\"/cursos/iso\"></a>, <a href=\"/cursos/gtm\"></a>, <a href=\"/cursos/profesional-diseno-videojuegos\"></a>, <a href=\"/cursos/motivacion\"></a>, <a href=\"/cursos/estrategia-instagram\"></a>, <a href=\"/cursos/zoom\"></a>, <a href=\"/cursos/lenguaje-audiovisual\"></a>, <a href=\"/cursos/solucion-problemas\"></a>, <a href=\"/cursos/sapper\"></a>, <a href=\"/cursos/malware-moviles\"></a>, <a href=\"/cursos/pandas\"></a>, <a href=\"/cursos/cloud-platform\"></a>]\n"
     ]
    }
   ],
   "source": [
    "soup=bs4.BeautifulSoup(response.text, 'html.parser')\n",
    "courses_links=soup.select('.RecentCourses-item a')\n",
    "print(courses_links)"
   ]
  },
  {
   "cell_type": "code",
   "execution_count": 81,
   "metadata": {},
   "outputs": [
    {
     "name": "stdout",
     "output_type": "stream",
     "text": [
      "/cursos/ux-writing\n",
      "/cursos/cooking-for-geeks\n",
      "/cursos/adobe-premiere\n",
      "/cursos/iso\n",
      "/cursos/gtm\n",
      "/cursos/profesional-diseno-videojuegos\n",
      "/cursos/motivacion\n",
      "/cursos/estrategia-instagram\n",
      "/cursos/zoom\n",
      "/cursos/lenguaje-audiovisual\n",
      "/cursos/solucion-problemas\n",
      "/cursos/sapper\n",
      "/cursos/malware-moviles\n",
      "/cursos/pandas\n",
      "/cursos/cloud-platform\n"
     ]
    }
   ],
   "source": [
    "courses= [course[\"href\"] for course in courses_links]\n",
    "for course in courses:\n",
    "    print(course)"
   ]
  },
  {
   "cell_type": "code",
   "execution_count": 82,
   "metadata": {},
   "outputs": [
    {
     "name": "stdout",
     "output_type": "stream",
     "text": [
      "['h', 'u', 'm', 'a', 'n']\n"
     ]
    }
   ],
   "source": [
    "#Ejemplo list comprehension\n",
    "h_letters = [ letter for letter in 'human' ]\n",
    "print( h_letters)"
   ]
  },
  {
   "cell_type": "code",
   "execution_count": 84,
   "metadata": {},
   "outputs": [
    {
     "name": "stdout",
     "output_type": "stream",
     "text": [
      "[0, 1, 2, 3, 4, 5, 6, 7, 8, 9, 10, 11, 12, 13, 14, 15, 16, 17, 18, 19, 20, 21, 22, 23, 24, 25, 26, 27, 28, 29, 30, 31, 32, 33, 34, 35, 36, 37, 38, 39, 40, 41, 42, 43, 44, 45, 46, 47, 48, 49, 50, 51, 52, 53, 54, 55, 56, 57, 58, 59, 60, 61, 62, 63, 64, 65, 66, 67, 68, 69, 70, 71, 72, 73, 74, 75, 76, 77, 78, 79, 80, 81, 82, 83, 84, 85, 86, 87, 88, 89, 90, 91, 92, 93, 94, 95, 96, 97, 98, 99, 100]\n"
     ]
    }
   ],
   "source": [
    "#metodo para crear una lista de 0 a 100 clasica\n",
    "lista= []\n",
    "for valor in range(0,101):\n",
    "    lista.append(valor)\n",
    "print(lista)"
   ]
  },
  {
   "cell_type": "code",
   "execution_count": 85,
   "metadata": {},
   "outputs": [
    {
     "name": "stdout",
     "output_type": "stream",
     "text": [
      "[0, 1, 2, 3, 4, 5, 6, 7, 8, 9, 10, 11, 12, 13, 14, 15, 16, 17, 18, 19, 20, 21, 22, 23, 24, 25, 26, 27, 28, 29, 30, 31, 32, 33, 34, 35, 36, 37, 38, 39, 40, 41, 42, 43, 44, 45, 46, 47, 48, 49, 50, 51, 52, 53, 54, 55, 56, 57, 58, 59, 60, 61, 62, 63, 64, 65, 66, 67, 68, 69, 70, 71, 72, 73, 74, 75, 76, 77, 78, 79, 80, 81, 82, 83, 84, 85, 86, 87, 88, 89, 90, 91, 92, 93, 94, 95, 96, 97, 98, 99, 100]\n"
     ]
    }
   ],
   "source": [
    "#metodo crear una lista  de 0 a 100 con List Comprehension\n",
    "lista2= [valor for valor in range(0,101)]\n",
    "print(lista2)\n",
    "# 0 definir variable lista\n",
    "# 1 Valor a agregar a la lista\n",
    "# 2 Crear un ciclo "
   ]
  },
  {
   "cell_type": "code",
   "execution_count": 87,
   "metadata": {},
   "outputs": [
    {
     "name": "stdout",
     "output_type": "stream",
     "text": [
      "[0, 2, 4, 6, 8, 10, 12, 14, 16, 18, 20, 22, 24, 26, 28, 30, 32, 34, 36, 38, 40, 42, 44, 46, 48, 50, 52, 54, 56, 58, 60, 62, 64, 66, 68, 70, 72, 74, 76, 78, 80, 82, 84, 86, 88, 90, 92, 94, 96, 98, 100]\n"
     ]
    }
   ],
   "source": [
    "#List comprehension con numers pares\n",
    "lista3 = [valor for valor in range (0 , 101) if valor % 2 == 0]\n",
    "print(lista3)"
   ]
  },
  {
   "cell_type": "code",
   "execution_count": 90,
   "metadata": {},
   "outputs": [
    {
     "name": "stdout",
     "output_type": "stream",
     "text": [
      "(1, 3, 5, 7, 9, 11, 13, 15, 17, 19, 21, 23, 25, 27, 29, 31, 33, 35, 37, 39, 41, 43, 45, 47, 49, 51, 53, 55, 57, 59, 61, 63, 65, 67, 69, 71, 73, 75, 77, 79, 81, 83, 85, 87, 89, 91, 93, 95, 97, 99)\n"
     ]
    }
   ],
   "source": [
    "# Tupla con List comprehension\n",
    "tupla= tuple ((valor for valor in range (0 , 101) if valor % 2 != 0))\n",
    "print(tupla)"
   ]
  },
  {
   "cell_type": "code",
   "execution_count": 96,
   "metadata": {},
   "outputs": [
    {
     "name": "stdout",
     "output_type": "stream",
     "text": [
      "{0: 0, 1: 1, 2: 2, 3: 3, 4: 4, 5: 5, 6: 6, 7: 7, 8: 8, 9: 9, 10: 10, 11: 11, 12: 12, 13: 13, 14: 14, 15: 15, 16: 16, 17: 17, 18: 18, 19: 19, 20: 20, 21: 21, 22: 22, 23: 23, 24: 24, 25: 25, 26: 26, 27: 27, 28: 28, 29: 29, 30: 30, 31: 31, 32: 32, 33: 33, 34: 34, 35: 35, 36: 36, 37: 37, 38: 38, 39: 39, 40: 40, 41: 41, 42: 42, 43: 43, 44: 44, 45: 45, 46: 46, 47: 47, 48: 48, 49: 49, 50: 50, 51: 51, 52: 52, 53: 53, 54: 54, 55: 55, 56: 56, 57: 57, 58: 58, 59: 59, 60: 60, 61: 61, 62: 62, 63: 63, 64: 64, 65: 65, 66: 66, 67: 67, 68: 68, 69: 69, 70: 70, 71: 71, 72: 72, 73: 73, 74: 74, 75: 75, 76: 76, 77: 77, 78: 78, 79: 79, 80: 80, 81: 81, 82: 82, 83: 83, 84: 84, 85: 85, 86: 86, 87: 87, 88: 88, 89: 89, 90: 90, 91: 91, 92: 92, 93: 93, 94: 94, 95: 95, 96: 96, 97: 97, 98: 98, 99: 99, 100: 100}\n"
     ]
    }
   ],
   "source": [
    "#Diccionario con list comprehension\n",
    "dic= { indice:valor    for indice, valor in enumerate(lista)}\n",
    "print(dic)"
   ]
  },
  {
   "cell_type": "code",
   "execution_count": 105,
   "metadata": {},
   "outputs": [
    {
     "name": "stdout",
     "output_type": "stream",
     "text": [
      "0 apple\n",
      "1 banana\n",
      "2 grapes\n",
      "3 pear\n"
     ]
    }
   ],
   "source": [
    "my_list = ['apple', 'banana', 'grapes', 'pear']\n",
    "for c, v in enumerate(my_list):\n",
    "    print(c, v)"
   ]
  },
  {
   "cell_type": "code",
   "execution_count": 107,
   "metadata": {},
   "outputs": [
    {
     "name": "stdout",
     "output_type": "stream",
     "text": [
      "[(1, 'apple'), (2, 'banana'), (3, 'grapes'), (4, 'pear')]\n"
     ]
    }
   ],
   "source": [
    "my_list = ['apple', 'banana', 'grapes', 'pear']\n",
    "counter_list = list(enumerate(my_list, 1))\n",
    "print(counter_list)"
   ]
  },
  {
   "cell_type": "code",
   "execution_count": 108,
   "metadata": {},
   "outputs": [
    {
     "name": "stdout",
     "output_type": "stream",
     "text": [
      "['Hola J2Logo', 'Hola Antonio', 'Hola Vega', 'Saludos J2Logo', 'Saludos Antonio', 'Saludos Vega', 'Hi J2Logo', 'Hi Antonio', 'Hi Vega']\n"
     ]
    }
   ],
   "source": [
    "saludos = ['hola', 'saludos', 'hi']\n",
    "nombres = ['j2logo', 'antonio', 'vega']\n",
    "frases = ['{} {}'.format(saludo.title(), nombre.title()) for saludo in saludos for nombre in nombres]\n",
    "print(frases)\n"
   ]
  }
 ],
 "metadata": {
  "kernelspec": {
   "display_name": "Python 3",
   "language": "python",
   "name": "python3"
  },
  "language_info": {
   "codemirror_mode": {
    "name": "ipython",
    "version": 3
   },
   "file_extension": ".py",
   "mimetype": "text/x-python",
   "name": "python",
   "nbconvert_exporter": "python",
   "pygments_lexer": "ipython3",
   "version": "3.7.6"
  }
 },
 "nbformat": 4,
 "nbformat_minor": 4
}
